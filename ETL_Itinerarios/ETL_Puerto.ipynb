{
 "cells": [
  {
   "cell_type": "code",
   "execution_count": 20,
   "id": "17a7e2d3",
   "metadata": {},
   "outputs": [],
   "source": [
    "#Importamos pandas y leemos la hoja puerto de nuestro archivo excel\n",
    "import pandas as pd\n",
    "df_puerto = pd.read_excel(\"Bd_Itinerarios.xlsx\",sheet_name=\"puerto\")"
   ]
  },
  {
   "cell_type": "code",
   "execution_count": 21,
   "id": "fdb2b1c0",
   "metadata": {},
   "outputs": [
    {
     "name": "stdout",
     "output_type": "stream",
     "text": [
      "<class 'pandas.core.frame.DataFrame'>\n",
      "RangeIndex: 1061 entries, 0 to 1060\n",
      "Data columns (total 5 columns):\n",
      " #   Column          Non-Null Count  Dtype \n",
      "---  ------          --------------  ----- \n",
      " 0   CodigoPuerto    1061 non-null   object\n",
      " 1   CodigoPais      1060 non-null   object\n",
      " 2   NombrePuerto    1061 non-null   object\n",
      " 3   TipoTransporte  1061 non-null   object\n",
      " 4   EsPuertoLocal   1061 non-null   int64 \n",
      "dtypes: int64(1), object(4)\n",
      "memory usage: 41.6+ KB\n"
     ]
    }
   ],
   "source": [
    "df_puerto.info()"
   ]
  },
  {
   "cell_type": "code",
   "execution_count": 22,
   "id": "9dcc442a",
   "metadata": {},
   "outputs": [
    {
     "data": {
      "text/html": [
       "<div>\n",
       "<style scoped>\n",
       "    .dataframe tbody tr th:only-of-type {\n",
       "        vertical-align: middle;\n",
       "    }\n",
       "\n",
       "    .dataframe tbody tr th {\n",
       "        vertical-align: top;\n",
       "    }\n",
       "\n",
       "    .dataframe thead th {\n",
       "        text-align: right;\n",
       "    }\n",
       "</style>\n",
       "<table border=\"1\" class=\"dataframe\">\n",
       "  <thead>\n",
       "    <tr style=\"text-align: right;\">\n",
       "      <th></th>\n",
       "      <th>EsPuertoLocal</th>\n",
       "    </tr>\n",
       "  </thead>\n",
       "  <tbody>\n",
       "    <tr>\n",
       "      <th>count</th>\n",
       "      <td>1061.000000</td>\n",
       "    </tr>\n",
       "    <tr>\n",
       "      <th>mean</th>\n",
       "      <td>0.004713</td>\n",
       "    </tr>\n",
       "    <tr>\n",
       "      <th>std</th>\n",
       "      <td>0.068518</td>\n",
       "    </tr>\n",
       "    <tr>\n",
       "      <th>min</th>\n",
       "      <td>0.000000</td>\n",
       "    </tr>\n",
       "    <tr>\n",
       "      <th>25%</th>\n",
       "      <td>0.000000</td>\n",
       "    </tr>\n",
       "    <tr>\n",
       "      <th>50%</th>\n",
       "      <td>0.000000</td>\n",
       "    </tr>\n",
       "    <tr>\n",
       "      <th>75%</th>\n",
       "      <td>0.000000</td>\n",
       "    </tr>\n",
       "    <tr>\n",
       "      <th>max</th>\n",
       "      <td>1.000000</td>\n",
       "    </tr>\n",
       "  </tbody>\n",
       "</table>\n",
       "</div>"
      ],
      "text/plain": [
       "       EsPuertoLocal\n",
       "count    1061.000000\n",
       "mean        0.004713\n",
       "std         0.068518\n",
       "min         0.000000\n",
       "25%         0.000000\n",
       "50%         0.000000\n",
       "75%         0.000000\n",
       "max         1.000000"
      ]
     },
     "execution_count": 22,
     "metadata": {},
     "output_type": "execute_result"
    }
   ],
   "source": [
    "df_puerto.describe()"
   ]
  },
  {
   "cell_type": "code",
   "execution_count": 23,
   "id": "4c9f580a",
   "metadata": {},
   "outputs": [
    {
     "data": {
      "text/plain": [
       "CodigoPuerto      0\n",
       "CodigoPais        1\n",
       "NombrePuerto      0\n",
       "TipoTransporte    0\n",
       "EsPuertoLocal     0\n",
       "dtype: int64"
      ]
     },
     "execution_count": 23,
     "metadata": {},
     "output_type": "execute_result"
    }
   ],
   "source": [
    "df_puerto.isnull().sum()"
   ]
  },
  {
   "cell_type": "code",
   "execution_count": 24,
   "id": "3fe9ca9d",
   "metadata": {},
   "outputs": [
    {
     "data": {
      "text/plain": [
       "Index([1013], dtype='int64')"
      ]
     },
     "execution_count": 24,
     "metadata": {},
     "output_type": "execute_result"
    }
   ],
   "source": [
    "df_puerto[df_puerto.isnull().any(axis=1)].index"
   ]
  },
  {
   "cell_type": "code",
   "execution_count": 25,
   "id": "ad635a94",
   "metadata": {},
   "outputs": [
    {
     "data": {
      "text/plain": [
       "CodigoPuerto             WVB\n",
       "CodigoPais               NaN\n",
       "NombrePuerto      WALVIS BAY\n",
       "TipoTransporte             M\n",
       "EsPuertoLocal              0\n",
       "Name: 1013, dtype: object"
      ]
     },
     "execution_count": 25,
     "metadata": {},
     "output_type": "execute_result"
    }
   ],
   "source": [
    "df_puerto.loc[1013]"
   ]
  },
  {
   "cell_type": "code",
   "execution_count": 26,
   "id": "4d402c7b",
   "metadata": {},
   "outputs": [],
   "source": [
    "#Eliminamos ya que el puerto no cuenta con un codigo de país por ende no se puede identificar al pais que pertence\n",
    "df_puerto.drop(1013,inplace=True)"
   ]
  },
  {
   "cell_type": "code",
   "execution_count": 27,
   "id": "b8628437",
   "metadata": {},
   "outputs": [
    {
     "data": {
      "text/plain": [
       "np.int64(0)"
      ]
     },
     "execution_count": 27,
     "metadata": {},
     "output_type": "execute_result"
    }
   ],
   "source": [
    "df_puerto.duplicated().sum()"
   ]
  },
  {
   "cell_type": "code",
   "execution_count": 28,
   "id": "9eafc8fa",
   "metadata": {},
   "outputs": [
    {
     "data": {
      "text/plain": [
       "np.int64(114)"
      ]
     },
     "execution_count": 28,
     "metadata": {},
     "output_type": "execute_result"
    }
   ],
   "source": [
    "df_puerto.duplicated(subset=[\"CodigoPuerto\"]).sum()"
   ]
  },
  {
   "cell_type": "code",
   "execution_count": 29,
   "id": "fac9bf4d",
   "metadata": {},
   "outputs": [
    {
     "data": {
      "text/plain": [
       "np.int64(50)"
      ]
     },
     "execution_count": 29,
     "metadata": {},
     "output_type": "execute_result"
    }
   ],
   "source": [
    "df_puerto.duplicated(subset=[\"CodigoPuerto\",\"CodigoPais\",\"NombrePuerto\"]).sum()"
   ]
  },
  {
   "cell_type": "code",
   "execution_count": 30,
   "id": "c75c4f58",
   "metadata": {},
   "outputs": [
    {
     "name": "stdout",
     "output_type": "stream",
     "text": [
      "[(123, 'KOPER'), (827, 'HAYDARPASA'), ('AAE', 'ANNABA'), ('AAH', 'AACHEN'), ('AAL', 'AALBORG'), ('AAN', 'AL AIN'), ('AAR', 'AARHUS'), ('ABD', 'ABERDEEN'), ('ACB', 'ALBOLOTE'), ('ACC', 'ACCRA'), ('ACE', 'LANZAROTE'), ('ACI', 'TACOMA'), ('ACJ', 'ACAJUTLA'), ('ADA', 'ADANA'), ('ADD', 'ADDIS ABABA'), ('ADE', 'ADEN'), ('ADH', 'ANGRA DO HEROISMO'), ('ADL', 'ADELAIDE'), ('AES', 'ALESUND'), ('AGB', 'AUGSBURG'), ('AGP', 'MALAGA'), ('AGP', 'MALAGA'), ('AIN', 'HUAIYIN'), ('AJM', 'AJMAN'), ('AKL', 'ASHKELON'), ('AKL', 'AUCKLAND'), ('AKL', 'AUCKLAND'), ('ALB', 'ALBACETE'), ('ALC', 'ALICANTE'), ('ALC', 'ALICANTE'), ('ALE', 'ALESSANDRIA'), ('ALG', 'ALGER'), ('ALG', 'ALGECIRAS'), ('ALY', 'ALEXANDRIA'), ('AMB', 'AMBARLI'), ('AMD', 'AHMEDABAD'), ('AMM', 'AMMAN'), ('AMS', 'AMSTERDAM'), ('AMS', 'AMSTERDAM'), ('ANF', 'ANTOFAGASTA'), ('ANK', 'ANKARA'), ('ANR', 'ANTWERP'), ('ANS', 'ANSBACH'), ('AOI', 'ANCONA'), ('AOT', 'AOSTA'), ('APW', 'APIA'), ('AQG', 'ANQING'), ('ARE', 'AREZZO'), ('ARI', 'ARICA'), ('ASH', 'ASHDOD'), ('ASN', 'ANSHAN'), ('ASP', 'ASCOLI PICENO'), ('ASR', 'KAYSERI'), ('AST', 'ASTI'), ('ASU', 'ASUNCION'), ('ATL', 'ATLANTA, GA'), ('ATL', 'ATLANTA, GA'), ('ATM', 'ALTAMIRA'), ('AUH', 'ABU DHABI'), ('AVE', 'AVELLINO'), ('AVI', 'AVILA'), ('AVN', 'AVIGNON'), ('AXT', 'AKITA'), ('AYI', 'AYIA NAPA'), ('AYN', 'ANYANG'), ('BAB', 'BRATISLAVA'), ('BAD', 'BAO DING'), ('BAH', 'BAHRAIN'), ('BAH', 'BAHRAIN'), ('BAL', 'BALTIMORE'), ('BAQ', 'BARRANQUILLA'), ('BAQ', 'BARRANQUILLA'), ('BAY', 'BAYUQUAN'), ('BCD', 'BACOLOD NEGROS'), ('BCN', 'BARCELONA'), ('BCN', 'BARCELONA'), ('BDJ', 'BANJARMASIN'), ('BEL', 'BELL BAY'), ('BEL', 'BELFAST'), ('BEN', 'BENXI'), ('BEN', 'BENEVENTO'), ('BER', 'BERLIN'), ('BER', 'BERLIN'), ('BEV', 'BEER SHEBA'), ('BEW', 'BEIRA'), ('BEY', 'BEIRUT'), ('BFE', 'BIELEFELD'), ('BGI', 'BRIDGETOWN'), ('BGO', 'BERGAMO'), ('BGO', 'BERGEN'), ('BGW', 'BAGHDAD'), ('BHM', 'BIRMINGHAM'), ('BHY', 'BEIHAI'), ('BIE', 'BIELLA'), ('BIN', 'BIN ZHOU'), ('BIO', 'BILBAO'), ('BIO', 'BILBAO'), ('BIR', 'BIRMINGHAM AL'), ('BJA', 'BEJAIA'), ('BJL', 'BANJUL'), ('BJO', 'BEIJIAO'), ('BJS', 'BEIJING'), ('BJX', 'BAO JI'), ('BJZ', 'BADAJOZ'), ('BKK', 'BANGKOK'), ('BKK', 'BANGKOK'), ('BKO', 'BAMAKO'), ('BLB', 'BALBOA'), ('BLQ', 'BOLOGNA'), ('BLR', 'BANGALORE'), ('BLW', 'BELAWAN'), ('BLX', 'BELLUNO'), ('BLZ', 'BLANTYRE'), ('BNE', 'BRISBANE'), ('BOD', 'BORDEAUX'), ('BOG', 'BOGOTA'), ('BOJ', 'BURGAS'), ('BOM', 'BOCHUM'), ('BOM', 'MUMBAI'), ('BON', 'BONNY'), ('BOS', 'BORAS'), ('BOS', 'BOSTON'), ('BOS', 'BOSTON'), ('BOT', 'BOTTROP'), ('BPN', 'BALIKPAPAN'), ('BRC', 'BRESCIA'), ('BRE', 'BREMEN'), ('BRE', 'BREMEN'), ('BRI', 'BARI'), ('BRN', 'BERN'), ('BRO', 'BROWNSVILLE, TX'), ('BRQ', 'BRNO'), ('BRS', 'BRISTOL'), ('BRU', 'BRUSSEL'), ('BRU', 'BRUSSEL'), ('BRV', 'BREMERHAVEN'), ('BSG', 'BATA'), ('BSL', 'BASEL'), ('BSR', 'BASRA'), ('BTH', 'BATAM'), ('BTU', 'BINTULU'), ('BUD', 'BUDAPEST'), ('BUE', 'BUENOS AIRES'), ('BUE', 'BUENOS AIRES'), ('BUF', 'BUFFALO, NY'), ('BUN', 'BUENAVENTURA'), ('BUQ', 'BULAWAYO'), ('BUR', 'BURGOS'), ('BWE', 'BRAUNSCHWEIG'), ('BWI', 'BALTIMORE'), ('BXU', 'BUTUAN'), ('BZE', 'BELIZE CITY'), ('BZO', 'BOLZANO'), ('CAD', 'CADIZ'), ('CAG', 'CAGLIARI'), ('CAI', 'CAIRO'), ('CAL', 'CALGARY'), ('CAN', 'GUANGZHOU, CHINA'), ('CAN', 'GUANGZHOU, XINGFENG'), ('CAU', 'CAUCEDO'), ('CBB', 'COCHABAMBA'), ('CCF', 'CARCASSONNE'), ('CCS', 'CACERES'), ('CCS', 'CARACAS'), ('CCU', 'CALCUTTA'), ('CDF', 'CARDIFF'), ('CDG', 'CHARLES DE GAULLE'), ('CEB', 'CEBU'), ('CEU', 'CEUTA'), ('CEZ', 'CESENA'), ('CGN', 'KOLN'), ('CGP', 'CHITTAGONG'), ('CGQ', 'CHANG CHUN'), ('CGU', 'CHANGSHU'), ('CGY', 'CAGAYAN DE ORO'), ('CHB', 'CHIBA'), ('CHC', 'CHRISTCHURCH'), ('CHE', 'CHEMNITZ'), ('CHI', 'CHICAGO IL'), ('CHS', 'CHARLESTON SC'), ('CII', 'CHIETI'), ('CIO', 'CORINTO'), ('CIR', 'CIUDAD REAL'), ('CIX', 'CIXI'), ('CJB', 'COIMBATORE'), ('CKG', 'CHONGQING'), ('CKY', 'CONAKRY'), ('CLA', 'AEROPUERTO CALLAO'), ('CLE', 'CLEVELAND, OH'), ('CLL', 'CALLAO'), ('CLO', 'CALI'), ('CLT', 'CHARLOTTE'), ('CLY', 'CELAYA'), ('CMB', 'COLOMBO'), ('CMH', 'COLUMBUS, OH'), ('CNG', 'CHENG DE'), ('COB', 'CAMPOBASSO'), ('COK', 'COCHIN'), ('COL', 'COLON'), ('COL', 'COLIMA'), ('COO', 'COTONOU'), ('COR', 'CORDOBA'), ('COT', 'COTTBUS'), ('COZ', 'CHAOZHOU'), ('CPG', 'CHANGPING'), ('CPH', 'COPENHAGEN'), ('CPT', 'CAPE TOWN'), ('CPT', 'CAPETOWN'), ('CRE', 'CREMONA'), ('CRQ', 'CHARLOTTE NC'), ('CSJ', 'CASTEJON'), ('CSJ', 'CASTRIES'), ('CSO', 'COCO SOLO'), ('CST', 'CASERTA'), ('CSX', 'CHANGSHA'), ('CTA', 'CATANIA'), ('CTB', 'CRISTOBAL'), ('CTG', 'CARTAGENA'), ('CTS', 'CALTANISSETTA'), ('CTU', 'CHENGDU'), ('CUE', 'CUENCA'), ('CUL', 'CULIACAN'), ('CUN', 'CUNEO'), ('CVV', 'CIVITAVECCHIA'), ('CWN', 'CHIWAN'), ('CYG', 'CHAOYANG'), ('CZL', 'CONSTANTINE'), ('CZU', 'CANGZHOU'), ('CZX', 'CHANGZHOU'), ('DAA', 'DAGANG'), ('DAC', 'DHAKA'), ('DAD', 'DANANG'), ('DAL', 'DALLAS TX'), ('DAR', 'DARMSTADT'), ('DAT', 'DATONG'), ('DAX', 'DAXIAN'), ('DCB', 'DA CHAN BAY'), ('DDG', 'DANDONG'), ('DEL', 'DELHI'), ('DFW', 'DALLAS'), ('DGG', 'DONGGUAN'), ('DGT', 'DONGTAI'), ('DGT', 'DUMAGUETE'), ('DIJ', 'DIJON'), ('DKR', 'DAKAR'), ('DLA', 'DOUALA'), ('DLC', 'DALIAN'), ('DOH', 'DOHA'), ('DOU', 'DOUMEN'), ('DQG', 'DAQING'), ('DRS', 'DRESDEN'), ('DRW', 'DARWIN'), ('DRZ', 'DURRES'), ('DTM', 'DORTMUND'), ('DTW', 'DETROIT'), ('DUB', 'DUBLIN'), ('DUD', 'DUNEDIN'), ('DUI', 'DUISBURG'), ('DUR', 'DURBAN'), ('DUS', 'DUSSELDORF'), ('DUS', 'DUSSELDORF'), ('DXB', 'DUBAI'), ('DXY', 'DERBY'), ('EAS', 'SAN SEBASTIAN'), ('EBA', 'ELBA'), ('EBJ', 'ESBJERG'), ('EDL', 'ELDORET'), ('EGU', 'EL GUAMACHE'), ('ELS', 'EAST LONDON'), ('ENO', 'ENNA'), ('ERF', 'ERFURT'), ('ESE', 'ENSENADA'), ('ESS', 'ESSEN'), ('ETP', 'ECATEPEC'), ('EWR', 'NEWARK'), ('EWR', 'NEWARK'), ('FAN', 'FANG CHENG'), ('FAS', 'FANGSHAN'), ('FKI', 'FENGKAI'), ('FLF', 'FLENSBURG'), ('FLN', 'FLORIANOPOLIS'), ('FLR', 'FIRENZE'), ('FMG', 'FAMAGUSTA'), ('FNA', 'FREETOWN'), ('FNI', 'NIMES'), ('FOC', 'FUZHOU'), ('FOG', 'FOGGIA'), ('FOR', 'FORTALEZA'), ('FOS', 'FOSHAN'), ('FOS', 'FOS SUR MER '), ('FRA', 'FRANKFURT'), ('FRE', 'FREMANTLE'), ('FRK', 'FREDRIKSTAD'), ('FRL', 'FORLI'), ('FRO', 'FROSINONE'), ('FRR', 'FERRARA'), ('FRW', 'FRANCISTOWN'), ('FSN', 'FU SHUN '), ('FTQ', 'FORTUNA'), ('FUN', 'FUNAFUTI'), ('FUX', 'FUXIN'), ('FXT', 'FELIXSTOWE'), ('FYA', 'FUYANG'), ('GAI', 'GAIZHOU'), ('GAY', 'GAOYAO'), ('GBE', 'GABORONE'), ('GBO', 'GREENSBORO, NC'), ('GDL', 'GUADALAJARA'), ('GDL', 'GUADALAJARA'), ('GDN', 'GDANSK'), ('GDY', 'GDYNIA'), ('GEA', 'GERA'), ('GEK', 'GELSENKIRCHEN'), ('GEO', 'GEORGETOWN'), ('GES', 'GENERAL SANTOS'), ('GIB', 'GIBRALTAR'), ('GIG', 'RIO DE JANIERO'), ('GIJ', 'GIJON'), ('GLW', 'GLASGOW'), ('GOA', 'GENOVA'), ('GOM', 'GAOMING'), ('GOT', 'GOTHENBURG'), ('GRO', 'GERONA'), ('GRS', 'GROSSETO'), ('GRU', 'GUARULHOS'), ('GRX', 'GRANADA'), ('GRZ', 'GRAZ'), ('GUA', 'GUADALAJARA'), ('GUA', 'GUATEMALA'), ('GUA', 'GUATEMALA CITY'), ('GUG', 'GUIGANG'), ('GUM', 'GUAM'), ('GUR', 'ALOTAU'), ('GVA', 'GENEVE'), ('GYE', 'GUAYAQUIL'), ('GYE', 'GUAYAQUIL'), ('GZA', 'GORIZIA'), ('HAD', 'HADERA'), ('HAG', 'HAGEN'), ('HAI', 'RIO HAINA'), ('HAJ', 'HANNOVER'), ('HAK', 'HAIKOU'), ('HAL', 'Halifax'), ('HAL', 'HALLE'), ('HAM', 'HAMBURGO'), ('HAM', 'HAMBURG'), ('HAN', 'HANOI'), ('HAS', 'HASTINGS'), ('HAV', 'LA HABANA'), ('HBA', 'HOBART'), ('HBE', 'BURJ AL ARAB'), ('HDX', 'HAN DAN '), ('HEE', 'HERNE'), ('HEI', 'HEIDELBERG'), ('HEL', 'HELSINKI'), ('HEL', 'HELSINGBORG'), ('HEN', 'HEILBRONN'), ('HFA', 'HAIFA'), ('HFE', 'HEFEI'), ('HGH', 'HANGZHOU'), ('HIJ', 'HIROSHIMA'), ('HIL', 'HILDESHEIM'), ('HIN', 'HAINING'), ('HIS', 'HENGSHUI'), ('HKG', 'HONG KONG'), ('HKG', 'HONG KONG'), ('HLO', 'HULUDAO'), ('HLZ', 'HAMILTON'), ('HME', 'HAIMEN'), ('HMM', 'HAMM'), ('HMN', 'HUMEN'), ('HMN', 'HAMINA'), ('HMO', 'HERMOSILLO'), ('HMY', 'HAMEENLINNA'), ('HNY', 'HENGYANG'), ('HOD', 'HODEIDAH'), ('HOU', 'HOUSTON'), ('HOU', 'HOUSTON TX'), ('HPH', 'HAIPHONG'), ('HPU', 'HUANGPU, WUCHONG'), ('HRB', 'HARBIN'), ('HRE', 'HARARE'), ('HSH', 'HUANGSHAN'), ('HSI', 'HUANGSHI'), ('HSN', 'HESHAN'), ('HTD', 'HAKATA'), ('HUA', 'HUANGPU'), ('HUC', 'HUNCHUN'), ('HUC', 'HUESCA'), ('HUI', 'HUIZHOU'), ('HUI', 'HUE'), ('HUV', 'HUELVA'), ('HYD', 'HYDERABAD'), ('HYN', 'HUANGYAN'), ('HZG', 'HANZHONG'), ('HZH', 'HUZHOU'), ('IBZ', 'IBIZA'), ('IBZ', 'IBIZA'), ('ICD', 'NEW DELHI'), ('IEV', 'KIEV'), ('ILQ', 'ILO'), ('IMB', 'IMABARI'), ('IMP', 'IMPERIA'), ('INC', 'INCHON'), ('INC', 'INCHEON'), ('IND', 'INDIANAPOLIS, IN'), ('ING', 'INGOLSTADT'), ('INN', 'INNSBRUCK'), ('IQQ', 'IQUIQUE'), ('IQQ', 'IQUIQUE'), ('ISB', 'ISLAMABAD'), ('ISE', 'ISERNIA'), ('ISM', 'ISMAILIA'), ('IST', 'ISTANBUL'), ('ITG', 'ITAGUAI'), ('ITJ', 'ITAJAI'), ('IVC', 'INVERCARGILL'), ('IZM', 'IZMIR'), ('JAE', 'JAEN'), ('JAX', 'JACKSONVILLE FL'), ('JDZ', 'JINGDEZHEN'), ('JEA', 'JEBEL ALI'), ('JEN', 'JENA'), ('JFK', 'NEW YORK-JOHN F. KENNEDY APT'), ('JHA', 'JINHUA'), ('JIA', 'JIANGYIN'), ('JIB', 'DJIBOUTI'), ('JIG', 'JIADING'), ('JIL', 'JILIN'), ('JIX', 'JIAXING'), ('JJG', 'JIUJIANG'), ('JKT', 'JAKARTA'), ('JMN', 'JIANGMEN'), ('JMU', 'JIAMUSI'), ('JNB', 'JOHANNESBURG'), ('JNB', 'JOHANNESBURG'), ('JNN', 'JINING'), ('JNZ', 'JINZHOU'), ('JOE', 'JOENSUU'), ('JRG', 'JURONG'), ('JXN', 'JIAOXIN'), ('JYV', 'JYVASKYLA'), ('JZH', 'JIAO ZHOU'), ('JZU', 'JIUZHOU'), ('KAJ', 'KAJAANI'), ('KAS', 'KASSEL'), ('KEL', 'KIEL'), ('KEL', 'KEELUNG'), ('KEN', 'KEMPTEN'), ('KFG', 'KAIFENG'), ('KGL', 'KIGALI'), ('KHH', 'KAOSHIUNG'), ('KHI', 'KARACHI'), ('KHN', 'NANCHANG'), ('KIH', 'KISH ISLAND'), ('KIN', 'KINGSTON'), ('KIN', 'KINGSTON'), ('KIS', 'KISUMU'), ('KIW', 'KITWE'), ('KIY', 'KAIYUN'), ('KLA', 'KAMPALA'), ('KLJ', 'KLAIPEDA'), ('KLT', 'KAISERSLAUTERN'), ('KLZ', 'KALAMAZOO'), ('KMJ', 'KUMAMOTO'), ('KNZ', 'KANAZAWA'), ('KOK', 'KOKKOLA'), ('KOK', 'KOKURA'), ('KOL', 'KOLDING'), ('KOR', 'KORSAKOV'), ('KPN', 'KAIPING'), ('KRK', 'KRAKOW'), ('KRS', 'KRISTIANSAND'), ('KRT', 'KHARTOUM'), ('KTK', 'KOTKA'), ('KTN', 'KINGSTOWN'), ('KUB', 'KUALA BELAIT'), ('KUL', 'KUALA LUMPUR'), ('KUN', 'KAUNAS'), ('KUO', 'KUOPIO'), ('KUS', 'KUNSHAN'), ('KVG', 'KAVIENG'), ('KWI', 'KUWAIT'), ('KWL', 'GUILIN'), ('LAD', 'LUANDA'), ('LAE', 'LAE'), ('LAG', 'LA GUAIRA'), ('LAI', 'LAIZHOU'), ('LAS', 'LAS VEGAS'), ('LAU', 'LAUSANNE'), ('LAX', 'LOS ANGELES'), ('LAX', 'LOS ANGELES ,CA'), ('LBC', 'LÜBECK'), ('LBH', 'LABUAN HAJI'), ('LBV', 'LIBREVILLE'), ('LCA', 'LARNACA'), ('LCC', 'LECCE'), ('LCG', 'CORUÑA'), ('LCH', 'LAEM CHABANG'), ('LCO', 'LECCO'), ('LCV', 'LUCCA'), ('LEH', 'LE HAVRE'), ('LEI', 'ALMERIA'), ('LEI', 'LEIXOES'), ('LEJ', 'LEIPZIG'), ('LEN', 'LEON'), ('LEN', 'LEON'), ('LEV', 'LEVERKUSEN'), ('LEV', 'LEVIN'), ('LFG', 'LANGFANG'), ('LFW', 'LOME'), ('LGO', 'LUGO'), ('LHE', 'LAHORE'), ('LHI', 'LAHTI'), ('LHR', 'LONDON HEATROW'), ('LHW', 'LAN ZHOU'), ('LIA', 'LIAOYANG'), ('LIH', 'LIANHUASHAN'), ('LIM', 'LIMA'), ('LIN', 'MILANO-LINATE APT'), ('LIO', 'PUERTO LIMON'), ('LIO', 'LYON'), ('LIS', 'LISHUI'), ('LIS', 'LISBOA'), ('LIU', 'LINDAU'), ('LIV', 'LIVERPOOL'), ('LIV', 'LIVORNO'), ('LJD', 'LERIDA'), ('LJU', 'LJUBLJANA'), ('LKU', 'LONGKOU'), ('LLE', 'LILLE'), ('LLW', 'LILONGWE'), ('LMS', 'LIMASSOL'), ('LNA', 'LINAN'), ('LNH', 'LINHAI'), ('LNZ', 'LINZ'), ('LOD', 'LODZ'), ('LON', 'LONDON'), ('LOS', 'LAGOS'), ('LPA', 'LAS PALMAS'), ('LPB', 'LA PAZ'), ('LPB', 'LA PAZ'), ('LPG', 'MOUPING'), ('LPX', 'LIEPAJA'), ('LQN', 'LIRQUEN'), ('LSH', 'LUSHUN'), ('LSI', 'LANSHI'), ('LTK', 'LAUTOKA'), ('LTK', 'LATAKIA'), ('LTN', 'LATINA'), ('LUH', 'LUDWIGSHAFEN'), ('LUN', 'LUSAKA'), ('LUN', 'LUSAKA'), ('LVI', 'LIVINGSTONE'), ('LYA', 'LUO YANG'), ('LYD', 'LAIYANG'), ('LYG', 'LIANYUNGANG'), ('LYI', 'LINYI'), ('LYP', 'FAISALABAD'), ('LYS', 'LYON-SATOLAS APT'), ('LYT', 'LYTTELTON'), ('LZH', 'LIUZHOU'), ('MAA', 'MAANSHAN'), ('MAA', 'CHENNAI'), ('MAD', 'MADRID'), ('MAD', 'MADRID'), ('MAG', 'MAGDEBURG'), ('MAG', 'MADANG'), ('MAH', 'MAHON MENORCA'), ('MAI', 'MAINZ'), ('MAI', 'MAIZURU'), ('MAJ', 'MAJURO'), ('MAN', 'MANTOVA'), ('MAR', 'MARACAIBO'), ('MAT', 'MATSAPHA'), ('MAW', 'MAWEI'), ('MAW', 'MAHE'), ('MBA', 'MOMBASA'), ('MBT', 'MASBATE'), ('MBX', 'MARIBOR'), ('MCA', 'MACERATA'), ('MDE', 'MEDELLIN'), ('MDE', 'MEDELLIN'), ('MDZ', 'MENDOZA'), ('MEL', 'MELBOURNE'), ('MEL', 'MELBOURNE'), ('MEM', 'MEMPHIS TN'), ('MER', 'MERSIN'), ('MEX', 'MEXICO'), ('MEX', 'MEXICO CITY'), ('MGA', 'MANAGUA'), ('MGA', 'MANAGUA'), ('MHG', 'MANNHEIM'), ('MIA', 'MIAMI'), ('MIA', 'MIAMI FL'), ('MIL', 'MILAN'), ('MIL', 'MILAN'), ('MIN', 'MINDELO'), ('MIT', 'MANZANILLO'), ('MIY', 'MIYUN'), ('MJV', 'MURCIA'), ('MKC', 'Kansas City , MO'), ('MLE', 'MALE'), ('MLN', 'MELILLA'), ('MLW', 'MONROVIA'), ('MMI', 'MAOMING'), ('MMO', 'MÜLHEIM'), ('MNC', 'MANCHESTER'), ('MNC', 'NACALA'), ('MNL', 'MANILA'), ('MOD', 'MODENA'), ('MOS', 'MOERS'), ('MPL', 'MONTPELLIER'), ('MPL', 'MONTPELLIER'), ('MPM', 'MAPUTO'), ('MRS', 'MARSELLA'), ('MRS', 'MARSEILLE'), ('MSN', 'MESSINA'), ('MSQ', 'MINSK'), ('MSU', 'MASERU'), ('MSY', 'NEW ORLEANS LA'), ('MTR', 'MONTREAL'), ('MTR', 'MATERA'), ('MTS', 'MANZINI'), ('MTY', 'MONTERREY'), ('MTY', 'MONTERREY'), ('MUA', 'MUARA'), ('MUC', 'MUNICH'), ('MUG', 'MUUGA'), ('MUN', 'MUNDRA'), ('MUT', 'MY THO'), ('MUX', 'MULTAN'), ('MVD', 'MONTEVIDEO'), ('MXP', 'MALPENSA'), ('MYJ', 'MATSUYAMA'), ('NAH', 'NANHAI'), ('NAH', 'NAHA / OKINAWA'), ('NAR', 'NARBONNE'), ('NBO', 'NAIROBI'), ('NCE', 'NICE'), ('NDG', 'QIQIHAR'), ('NGB', 'NINGBO'), ('NGB', 'NINGBO'), ('NGG', 'NANGANG'), ('NGS', 'NAGASAKI'), ('NGY', 'NAGOYA, OITA'), ('NHA', 'NHA TRANG'), ('NHE', 'NINGHE'), ('NHI', 'NANHUI'), ('NIC', 'NICOSIA'), ('NIM', 'NIAMEY'), ('NIN', 'NINGHAI'), ('NKG', 'NANJING'), ('NLA', 'NDOLA'), ('NMD', 'NAM DINH'), ('NNG', 'NANNING'), ('NOU', 'NOUMEA'), ('NPE', 'NAPIER'), ('NPL', 'NEW PLYMOUTH'), ('NPS', 'NANPING'), ('NRT', 'NARITA APT/TOKYO'), ('NSA', 'NANSHA'), ('NSA', 'NHAVA SHEVA'), ('NSN', 'NELSON'), ('NSS', 'NEUSS'), ('NTG', 'NANTONG'), ('NUE', 'NÜRNBERG'), ('NUW', 'NUWAIBA'), ('NVR', 'NOVARA'), ('NVS', 'NAVOJOA'), ('NVT', 'NAVEGANTES'), ('NYC', 'NEW YORK'), ('NYC', 'NEW YORK'), ('NYG', 'NANYANG'), ('NYU', 'NASSAU'), ('OAK', 'OAKLAND, CA'), ('OBR', 'OBREGON'), ('ODB', 'CORDOBA'), ('ODE', 'ODENSE'), ('ODS', 'ODESSA'), ('OFF', 'OFFENBACH'), ('OHS', 'OBERHAUSEN'), ('OIT', 'OITA'), ('OLO', 'OLDENBURG'), ('OLU', 'OULU'), ('OMO', 'COMO'), ('ONX', 'COLON'), ('OPO', 'PORTO'), ('OPO', 'OPORTO'), ('ORD', 'CHICAGO'), ('ORE', 'ORENSE'), ('ORF', 'NORFOLK VA'), ('ORK', 'CORK'), ('ORL', 'ORLANDO, FL'), ('ORN', 'ORAN'), ('OSA', 'OSAKA'), ('OSL', 'OSLO'), ('OSN', 'OSNABRÜCK'), ('OTP', 'BUCURESTI-OTOPENI APT'), ('OUA', 'OUAGADOUGOU'), ('OVO', 'OVIEDO'), ('OXB', 'BISSAU'), ('PAC', 'PALENCIA'), ('PAI', 'PAITA'), ('PAO', 'PADBORG'), ('PAR', 'PARIS'), ('PAV', 'PAVIA'), ('PBC', 'PUEBLA'), ('PBL', 'PUERTO CABELLO'), ('PBM', 'PARAMARIBO'), ('PBR', 'PUERTO BARRIOS'), ('PCR', 'PUERTO CORTES'), ('PCZ', 'PIACENZA'), ('PDA', 'PADOVA'), ('PDG', 'PADANG'), ('PDU', 'PING DU'), ('PDX', 'PORTLAND'), ('PEC', 'PECEM'), ('PEF', 'PORT EVERGLADES'), ('PEG', 'PERUGIA'), ('PEK', 'BEIJING'), ('PEN', 'PENANG'), ('PER', 'PERTH'), ('PER', 'PERAWANG'), ('PES', 'PESARO'), ('PEV', 'PONTEVEDRA'), ('PEW', 'PESHAWAR'), ('PFO', 'PAPHOS'), ('PGF', 'PERPIGNAN'), ('PGU', 'PASIR GUDANG, JOHOR'), ('PHL', 'PHILADELPHIA'), ('PIN', 'PINGXIANG'), ('PIR', 'PIRAEUS'), ('PJI', 'PANJIN'), ('PKG', 'PORT KELANG'), ('PLA', 'PENG LAI'), ('PLU', 'PORT LOUIS'), ('PLZ', 'PORT ELIZABETH'), ('PMF', 'PARMA'), ('PMI', 'PALMA MALLORCA'), ('PMI', 'PALMA DE MALLORCA'), ('PMO', 'PALERMO'), ('PMR', 'PALMERSTON NORTH'), ('PNA', 'PAMPLONA'), ('PNG', 'PARANAGUA'), ('PNH', 'PHNOM PENH'), ('PNR', 'POINTE NOIRE'), ('PNY', 'PONDICHERRY'), ('POA', 'PORTO ALEGRE'), ('POE', 'PORT CHALMERS'), ('POM', 'PORT MORESBY*'), ('POR', 'PORI/ BJORNEBORG'), ('POS', 'PUERTO ESPAÑA'), ('POT', 'POTSDAM'), ('POZ', 'POZNAN'), ('PPG', 'PAGO PAGO'), ('PPT', 'PAPEETE'), ('PRD', 'PORDENONE'), ('PRG', 'PRAGUE'), ('PRQ', 'PUERTO QUETZAL'), ('PSA', 'PISA'), ('PSD', 'PORT SAID'), ('PSR', 'PESCARA'), ('PTC', 'PUERTO CALDERA'), ('PTQ', 'PETAH TIQWA'), ('PTS', 'POINT LISAS'), ('PTY', 'PANAMA CITY'), ('PTY', 'PANAMA CITY'), ('PUQ', 'PUNTA ARENAS'), ('PUS', 'BUSAN'), ('PUT', 'PUTIAN'), ('PYU', 'PANYU'), ('PZU', 'PORT SUDAN'), ('QCS', 'COSENZA'), ('QCZ', 'CATANZARO'), ('QIX', 'QINGXIAN'), ('QMN', 'MBABANE'), ('QNU', 'NUORO'), ('QPU', 'QINGPU'), ('QRO', 'QUERETARO'), ('QUF', 'QU FU'), ('QUZ', 'QUZHOU'), ('RAN', 'RANDERS'), ('RAN', 'RAVENNA'), ('RAR', 'RAROTONGA'), ('RAU', 'RAUMA'), ('REC', 'RECIFE'), ('REC', 'RECKLINGHAUSEN'), ('RED', 'REMSCHEID'), ('REG', 'REGENSBURG'), ('REG', 'REGGIO CALABRIA'), ('REH', 'REHOVOT'), ('REY', 'REYKJAVIK'), ('RIO', 'RIO DE JANEIRO'), ('RIO', 'RIO DE JANEIRO'), ('RIX', 'RIGA'), ('RLZ', 'RISHON LETSIYON'), ('RMI', 'RIMINI'), ('RNG', 'RONGCHENG'), ('ROQ', 'RONGQI'), ('ROR', 'KOROR'), ('ROT', 'ROTORUA'), ('RSH', 'RUSHAN'), ('RSK', 'ROSTOCK'), ('RTM', 'ROTTERDAM'), ('RUG', 'RUGAO'), ('RVN', 'ROVANIEMI'), ('RVO', 'ROVIGO'), ('RWP', 'RAWALPINDI'), ('RZH', 'RI ZHAO'), ('SAC', 'SHUANGCHENG'), ('SAD', 'SADAT CITY'), ('SAD', 'SANDEFJORD'), ('SAI', 'SAN ANTONIO '), ('SAL', 'SALERNO'), ('SAL', 'SAN SALVADOR'), ('SAL', 'SAN SALVADOR'), ('SAM', 'SANTA MARIA'), ('SAN', 'SAN DIEGO CA'), ('SAN', 'SANTO'), ('SAP', 'SAN PEDRO SULA'), ('SAR', 'SALZGITTER'), ('SAS', 'SANDNES'), ('SAT', 'SAN ANTONIO'), ('SAV', 'Savannah, GA'), ('SBU', 'SANBU'), ('SCL', 'SANTIAGO'), ('SCL', 'SANTIAGO DE CHILE'), ('SDG', 'SHUIDONG'), ('SDQ', 'SANTO DOMINGO'), ('SDQ', 'SANTO DOMINGO'), ('SDR', 'SANTANDER'), ('SEG', 'SEGOVIA'), ('SEL', 'SEOUL'), ('SFA', 'SFAX'), ('SFO', 'SAN FRANCISCO'), ('SFO', 'SAN FRANCISCO'), ('SFS', 'SAO FRANCISCO DO SUL'), ('SGN', 'HO CHI MINH CITY'), ('SGU', 'SHANGYU'), ('SHA', 'SHANGHAI'), ('SHA', 'SHANGHAI'), ('SHD', 'SHIDAO'), ('SHE', 'SHENYANG'), ('SHH', 'SHANHAIGUAN'), ('SHJ', 'SHARJAH'), ('SHK', 'SHEKOU'), ('SHS', 'SHIMONOSEKI'), ('SIE', 'SINES'), ('SIH', 'SIHUI'), ('SIN', 'SINGAPORE'), ('SIN', 'SINGAPORE'), ('SIR', 'SIRACUSA'), ('SJD', 'SAN JOSE DE CABO'), ('SJO', 'SAN JOSE'), ('SJO', 'SAN JOSE'), ('SJU', 'SAN JUAN'), ('SKG', 'THESSALONIKI'), ('SKO', 'SHUIKOU'), ('SKT', 'SAKATA'), ('SKT', 'SIALKOT'), ('SLC', 'SALT LAKE CITY'), ('SLM', 'SALAMANCA'), ('SLP', 'SAN LUIS POTOSI'), ('SMN', 'SAKAIMINATO'), ('SMZ', 'SHIMIZU'), ('SND', 'SONDRIO'), ('SNU', 'SANSHU'), ('SOC', '6TH OCTOBER'), ('SOF', 'SOFIA'), ('SOL', 'SOLINGEN'), ('SOR', 'SORIA'), ('SOU', 'SOUTHAMPTON'), ('SPE', 'LA SPEZIA'), ('SPG', 'SIPING'), ('SPN', 'SAIPAN'), ('SPQ', 'SAN PEDRO'), ('SRZ', 'SANTA CRUZ'), ('SSA', 'SALVADOR'), ('SSG', 'NO UTILIZAR'), ('SSG', 'MALABO'), ('SSZ', 'SANTOS'), ('STO', 'STOCKHOLM'), ('STR', 'STUTTGART'), ('STZ', 'SANTO TOMAS'), ('SUB', 'SURABAYA'), ('SUD', 'SHUNDE'), ('SUN', 'SHUNYI'), ('SUS', 'SOUSSE'), ('SUV', 'SUVA'), ('SUZ', 'SULZBACH'), ('SVE', 'SAN VICENTE'), ('SVG', 'STAVANGER'), ('SVO', 'SHEREMETYEVO APT/MOSCOW'), ('SVQ', 'SEVILLA'), ('SWA', 'SHANTOU'), ('SWR', 'SCHWERIN'), ('SXB', 'STRASBOURG'), ('SYD', 'SYDNEY'), ('SYN', 'SHIYAN'), ('SZG', 'SALZBURG'), ('SZH', 'SUZHOU'), ('SZX', 'SHENZHEN'), ('SZX', 'SHENZHEN'), ('SZZ', 'SZCZECIN'), ('TAC', 'TACOMA, WASHINGTON'), ('TAG', 'TAICANG'), ('TAK', 'TAKAMATSU'), ('TAL', 'TALCAHUANO'), ('TAO', 'QINGDAO'), ('TAP', 'TAIPING'), ('TAR', 'TARRAGONA'), ('TAR', 'TARANTO'), ('TAY', 'TARTU'), ('TBU', 'NUKUALOFA'), ('TEM', 'TEMA'), ('TEO', 'TERAMO'), ('TER', 'TERUEL'), ('TER', 'TERNI'), ('TES', 'SEMARANG'), ('TGH', 'TONGHUA'), ('TGU', 'TEGUCIGALPA'), ('TGU', 'TEGUCIGALPA'), ('THO', 'THANH HOA'), ('THP', 'THAMESPORT'), ('THS', 'TOYOHASHI'), ('TIA', 'TIRANA'), ('TIA', 'TIANTAI'), ('TIL', 'TIELING'), ('TIL', 'TILBURY'), ('TIP', 'TRIPOLI'), ('TIU', 'TIMARU'), ('TIZ', 'TAIZHOU'), ('TKS', 'TOKUSHIMA'), ('TLB', 'TILBURG'), ('TLL', 'TALLINN'), ('TLM', 'TLEMCEN'), ('TLS', 'TOULOUSE'), ('TLS', 'TOULOUSE'), ('TLV', 'TEL AVIV'), ('TMH', 'TAIYUAN'), ('TMK', 'TOMAKOMAI'), ('TMP', 'TAMAULIPAS'), ('TNA', 'JINAN'), ('TOL', 'TOLEDO'), ('TON', 'TONGLU'), ('TOR', 'TORONTO'), ('TOS', 'TOYAMASHINKO'), ('TOY', 'TOYAMA'), ('TPE', 'TAIPEI'), ('TPE', 'TAIPEI'), ('TRC', '10TH RAMADAN'), ('TRD', 'TRONDHEIM'), ('TRG', 'TSURUGA'), ('TRG', 'TAURANGA'), ('TRN', 'TORINO'), ('TRS', 'TRIESTE'), ('TRT', 'TRENTO'), ('TRV', 'TREVISO'), ('TRW', 'TARAWA'), ('TSN', 'TIANJIN'), ('TUN', 'TUNIS'), ('TUT', 'TUTICORIN (NEW TUTICORIN)'), ('TXG', 'TIANJIN'), ('TXG', 'TAICHUNG'), ('TXL', 'BERLIN - TEGEL'), ('TXZ', 'TONGXIANG'), ('TYN', 'TAOYUAN'), ('TYO', 'TOKYO'), ('UDN', 'UDINE'), ('UIH', 'QUI NHON'), ('UIO', 'QUITO'), ('UIO', 'QUITO'), ('UKB', 'KOBE'), ('ULM', 'ULM'), ('VAL', 'THE VALLEY'), ('VAN', 'VANCOUVER'), ('VAP', 'VALPARAISO'), ('VAR', 'VARNA'), ('VAR', 'VARESE'), ('VCA', 'CAN THO'), ('VCP', 'VIRACOPOS'), ('VDL', 'VADO LIGURE'), ('VER', 'VERACRUZ'), ('VGO', 'VIGO'), ('VIC', 'VICENZA'), ('VIE', 'VIENA'), ('VIT', 'VITERBO'), ('VLC', 'VALENCIA'), ('VLC', 'VALENCIA'), ('VLI', 'PORT VILA'), ('VLL', 'VALLADOLID'), ('VNO', 'VILNIUS'), ('VRK', 'VARKAUS'), ('VRL', 'VERCELLI'), ('VRN', 'VERONA'), ('VUT', 'VUNG TAU'), ('VVO', 'VLADIVOSTOK'), ('WAF', 'WAFANGDIAN'), ('WAK', 'WAKAYAMA'), ('WAZ', 'WANZAI'), ('WDS', 'WENDENG'), ('WHI', 'WUHU'), ('WIB', 'WIESBADEN'), ('WIL', 'WILLEMSTAD'), ('WLG', 'WELLINGTON'), ('WNP', 'Winnipeg'), ('WNZ', 'WENZHOU'), ('WOB', 'WOLFSBURG'), ('WRE', 'WHANGAREI'), ('WUH', 'WUHAN'), ('WUS', 'WUSONG'), ('WUZ', 'WUZHOU'), ('WWK', 'WEWAK'), ('XFN', 'XIANGFAN'), ('XIG', 'XINGANG, CN'), ('XII', 'JIXI'), ('XIN', 'XINHUI'), ('XIS', 'XIAOSHAN'), ('XIT', 'XINTANG'), ('XMN', 'XIAMEN'), ('XSN', 'XIANGSHAN'), ('XUZ', 'XUZHOU'), ('XZU', 'XIANGZHOU'), ('YAT', 'YATSUSHIRO'), ('YBH', 'LONG BEACH'), ('YCG', 'YANCHENG'), ('YIK', 'YINGKOU'), ('YIW', 'YIWU'), ('YIX', 'YIXING'), ('YKK', 'YOKKAICHI'), ('YNT', 'YANTAI'), ('YOK', 'YOKOHAMA'), ('YOU', 'YUYAO'), ('YTN', 'YANTIAN'), ('YUL', 'MONTREAL'), ('YUN', 'YUNCHENG'), ('YYZ', 'TORONTO'), ('YZH', 'YANGZHOU'), ('ZAG', 'ZAGREB'), ('ZAH', 'ZHUANGHE'), ('ZAM', 'ZAMBOANGA'), ('ZAZ', 'ZARAGOZA'), ('ZBW', 'LEEDS'), ('ZBX', 'MASSA CARRARA'), ('ZHE', 'ZHENJIANG'), ('ZIB', 'ZIBO'), ('ZJA', 'ZHANGJIAKOU'), ('ZJG', 'ZHANGJIAGANG'), ('ZLO', 'MANZANILLO'), ('ZMR', 'ZAMORA'), ('ZOS', 'ZHOUSHAN'), ('ZQG', 'ZHAOQING'), ('ZRH', 'ZURICH'), ('ZRH', 'ZURICH'), ('ZSN', 'ZHONGSHAN'), ('ZUH', 'ZHUHAI'), ('ZWI', 'ZWICKAU'), ('ZZA', 'XINGANG'), ('ZZU', 'ZHANGZHOU')]\n"
     ]
    }
   ],
   "source": [
    "tuplas = list(df_puerto[[\"CodigoPuerto\", \"NombrePuerto\"]].itertuples(index=False, name=None))\n",
    "print(tuplas)"
   ]
  },
  {
   "cell_type": "code",
   "execution_count": 31,
   "id": "d9f62db5",
   "metadata": {},
   "outputs": [
    {
     "data": {
      "text/html": [
       "<div>\n",
       "<style scoped>\n",
       "    .dataframe tbody tr th:only-of-type {\n",
       "        vertical-align: middle;\n",
       "    }\n",
       "\n",
       "    .dataframe tbody tr th {\n",
       "        vertical-align: top;\n",
       "    }\n",
       "\n",
       "    .dataframe thead th {\n",
       "        text-align: right;\n",
       "    }\n",
       "</style>\n",
       "<table border=\"1\" class=\"dataframe\">\n",
       "  <thead>\n",
       "    <tr style=\"text-align: right;\">\n",
       "      <th></th>\n",
       "      <th>CodigoPuerto</th>\n",
       "      <th>CodigoPais</th>\n",
       "      <th>NombrePuerto</th>\n",
       "      <th>TipoTransporte</th>\n",
       "      <th>EsPuertoLocal</th>\n",
       "    </tr>\n",
       "  </thead>\n",
       "  <tbody>\n",
       "    <tr>\n",
       "      <th>20</th>\n",
       "      <td>AGP</td>\n",
       "      <td>ES</td>\n",
       "      <td>MALAGA</td>\n",
       "      <td>A</td>\n",
       "      <td>0</td>\n",
       "    </tr>\n",
       "    <tr>\n",
       "      <th>21</th>\n",
       "      <td>AGP</td>\n",
       "      <td>ES</td>\n",
       "      <td>MALAGA</td>\n",
       "      <td>M</td>\n",
       "      <td>0</td>\n",
       "    </tr>\n",
       "    <tr>\n",
       "      <th>25</th>\n",
       "      <td>AKL</td>\n",
       "      <td>NZ</td>\n",
       "      <td>AUCKLAND</td>\n",
       "      <td>A</td>\n",
       "      <td>0</td>\n",
       "    </tr>\n",
       "    <tr>\n",
       "      <th>26</th>\n",
       "      <td>AKL</td>\n",
       "      <td>NZ</td>\n",
       "      <td>AUCKLAND</td>\n",
       "      <td>M</td>\n",
       "      <td>0</td>\n",
       "    </tr>\n",
       "    <tr>\n",
       "      <th>28</th>\n",
       "      <td>ALC</td>\n",
       "      <td>ES</td>\n",
       "      <td>ALICANTE</td>\n",
       "      <td>A</td>\n",
       "      <td>0</td>\n",
       "    </tr>\n",
       "    <tr>\n",
       "      <th>...</th>\n",
       "      <td>...</td>\n",
       "      <td>...</td>\n",
       "      <td>...</td>\n",
       "      <td>...</td>\n",
       "      <td>...</td>\n",
       "    </tr>\n",
       "    <tr>\n",
       "      <th>972</th>\n",
       "      <td>UIO</td>\n",
       "      <td>EC</td>\n",
       "      <td>QUITO</td>\n",
       "      <td>M</td>\n",
       "      <td>0</td>\n",
       "    </tr>\n",
       "    <tr>\n",
       "      <th>988</th>\n",
       "      <td>VLC</td>\n",
       "      <td>ES</td>\n",
       "      <td>VALENCIA</td>\n",
       "      <td>A</td>\n",
       "      <td>0</td>\n",
       "    </tr>\n",
       "    <tr>\n",
       "      <th>989</th>\n",
       "      <td>VLC</td>\n",
       "      <td>ES</td>\n",
       "      <td>VALENCIA</td>\n",
       "      <td>M</td>\n",
       "      <td>0</td>\n",
       "    </tr>\n",
       "    <tr>\n",
       "      <th>1054</th>\n",
       "      <td>ZRH</td>\n",
       "      <td>CH</td>\n",
       "      <td>ZURICH</td>\n",
       "      <td>A</td>\n",
       "      <td>0</td>\n",
       "    </tr>\n",
       "    <tr>\n",
       "      <th>1055</th>\n",
       "      <td>ZRH</td>\n",
       "      <td>CH</td>\n",
       "      <td>ZURICH</td>\n",
       "      <td>M</td>\n",
       "      <td>0</td>\n",
       "    </tr>\n",
       "  </tbody>\n",
       "</table>\n",
       "<p>100 rows × 5 columns</p>\n",
       "</div>"
      ],
      "text/plain": [
       "     CodigoPuerto CodigoPais NombrePuerto TipoTransporte  EsPuertoLocal\n",
       "20            AGP         ES       MALAGA              A              0\n",
       "21            AGP         ES       MALAGA              M              0\n",
       "25            AKL         NZ     AUCKLAND              A              0\n",
       "26            AKL         NZ     AUCKLAND              M              0\n",
       "28            ALC         ES     ALICANTE              A              0\n",
       "...           ...        ...          ...            ...            ...\n",
       "972           UIO         EC        QUITO              M              0\n",
       "988           VLC         ES     VALENCIA              A              0\n",
       "989           VLC         ES     VALENCIA              M              0\n",
       "1054          ZRH         CH       ZURICH              A              0\n",
       "1055          ZRH         CH       ZURICH              M              0\n",
       "\n",
       "[100 rows x 5 columns]"
      ]
     },
     "execution_count": 31,
     "metadata": {},
     "output_type": "execute_result"
    }
   ],
   "source": [
    "df_puerto[df_puerto.duplicated(subset=[\"CodigoPuerto\",\"CodigoPais\",\"NombrePuerto\"],keep=False)]"
   ]
  },
  {
   "cell_type": "code",
   "execution_count": 32,
   "id": "1875f1e9",
   "metadata": {},
   "outputs": [],
   "source": [
    "# Eliminar todos los espacios en blanco de los nombres de puerto para la generacion de nuevos codigos de puerto\n",
    "df_puerto[\"NombreAntiguo\"] = df_puerto['NombrePuerto']\n",
    "df_puerto['NombrePuerto'] = df_puerto['NombrePuerto'].astype(str).str.replace(' ', '').str.upper()"
   ]
  },
  {
   "cell_type": "code",
   "execution_count": 33,
   "id": "753b3d53",
   "metadata": {},
   "outputs": [],
   "source": [
    "from collections import defaultdict\n",
    "# Guardar código antiguo \n",
    "df_puerto['CodAntiguo'] = df_puerto.get('CodigoPuerto', None)\n",
    "\n",
    "# Funcion para generar codigo tomando en cuenta la primera letra , 2 letras del medio y la ultima letra\n",
    "def generar_codigo_base(nombre):\n",
    "    nombre = nombre.strip().upper()\n",
    "    longitud = len(nombre)\n",
    "\n",
    "    if longitud >= 4:\n",
    "        medio1 = (longitud - 1) // 2\n",
    "        medio2 = medio1 + 1 if medio1 + 1 < longitud else medio1\n",
    "        return nombre[0] + nombre[medio1] + nombre[medio2] + nombre[-1]\n",
    "    else:\n",
    "        # Si el nombre es corto, rellenar con 'X'\n",
    "        return (nombre + 'XXXX')[:4]\n",
    "\n",
    "# Generar columna auxiliar\n",
    "df_puerto['CodigoBase'] = df_puerto['NombrePuerto'].apply(generar_codigo_base)\n",
    "nombre_a_codigo = {}  # (nombre, pais) → código asignado\n",
    "codigos_usados = defaultdict(set)  # base → set de claves (nombre, pais)\n",
    "contador = defaultdict(int)\n",
    "codigos_finales = []\n",
    "\n",
    "for _, row in df_puerto.iterrows():\n",
    "    base = row['CodigoBase']\n",
    "    nombre = row['NombrePuerto'].strip().upper()\n",
    "    pais = row['CodigoPais'].strip().upper()\n",
    "    clave = (nombre, pais)\n",
    "\n",
    "    if clave in nombre_a_codigo:\n",
    "        # Ya se asignó este nombre+país antes → reutiliza código\n",
    "        codigos_finales.append(nombre_a_codigo[clave])\n",
    "    else:\n",
    "        if codigos_usados[base]:\n",
    "            # Ese base ya fue usado para otro nombre o país → colisión\n",
    "            contador[base] += 1\n",
    "            nuevo_codigo = f\"{base}{contador[base]}\"\n",
    "            codigos_finales.append(nuevo_codigo)\n",
    "            nombre_a_codigo[clave] = nuevo_codigo\n",
    "        else:\n",
    "            # Primer uso de ese base\n",
    "            codigos_finales.append(base)\n",
    "            nombre_a_codigo[clave] = base\n",
    "\n",
    "        codigos_usados[base].add(clave)"
   ]
  },
  {
   "cell_type": "code",
   "execution_count": 34,
   "id": "93c2a4de",
   "metadata": {},
   "outputs": [],
   "source": [
    "# Asignar código final\n",
    "df_puerto['CodigoPuerto'] = codigos_finales\n",
    "df_puerto.drop(columns=['CodigoBase'], inplace=True)"
   ]
  },
  {
   "cell_type": "code",
   "execution_count": 35,
   "id": "9f08d308",
   "metadata": {},
   "outputs": [
    {
     "name": "stdout",
     "output_type": "stream",
     "text": [
      "     CodigoPuerto CodigoPais NombrePuerto TipoTransporte  EsPuertoLocal  \\\n",
      "0            KPER         SI        KOPER              M              0   \n",
      "1            HARA         TR   HAYDARPASA              M              0   \n",
      "2            ANAA         DZ       ANNABA              M              0   \n",
      "3            ACHN         DE       AACHEN              M              0   \n",
      "4            ABOG         DK      AALBORG              M              0   \n",
      "...           ...        ...          ...            ...            ...   \n",
      "1056         ZGSN         CN    ZHONGSHAN              M              0   \n",
      "1057         ZUHI         CN       ZHUHAI              M              0   \n",
      "1058         ZCKU         DE      ZWICKAU              M              0   \n",
      "1059         XGAG         CN      XINGANG              M              0   \n",
      "1060         ZGZU         CN    ZHANGZHOU              M              0   \n",
      "\n",
      "     NombreAntiguo CodAntiguo  \n",
      "0            KOPER        123  \n",
      "1       HAYDARPASA        827  \n",
      "2           ANNABA        AAE  \n",
      "3           AACHEN        AAH  \n",
      "4          AALBORG        AAL  \n",
      "...            ...        ...  \n",
      "1056     ZHONGSHAN        ZSN  \n",
      "1057        ZHUHAI        ZUH  \n",
      "1058       ZWICKAU        ZWI  \n",
      "1059       XINGANG        ZZA  \n",
      "1060     ZHANGZHOU        ZZU  \n",
      "\n",
      "[1060 rows x 7 columns]\n"
     ]
    }
   ],
   "source": [
    "print(df_puerto)"
   ]
  },
  {
   "cell_type": "code",
   "execution_count": 36,
   "id": "c045865c",
   "metadata": {},
   "outputs": [
    {
     "data": {
      "text/plain": [
       "Index([  21,   26,   29,   38,   56,   68,   71,   75,   82,   96,  105,  122,\n",
       "        127,  134,  143,  149,  207,  260,  275,  308,  335,  365,  397,  409,\n",
       "        435,  456,  541,  552,  565,  582,  585,  591,  596,  613,  625,  642,\n",
       "        672,  720,  767,  794,  816,  830,  836,  841,  851,  855,  903,  922,\n",
       "        938,  950,  963,  972,  989, 1036, 1038, 1055],\n",
       "      dtype='int64')"
      ]
     },
     "execution_count": 36,
     "metadata": {},
     "output_type": "execute_result"
    }
   ],
   "source": [
    "df_puerto[df_puerto.duplicated(subset=[\"CodigoPuerto\",\"CodigoPais\"])].index"
   ]
  },
  {
   "cell_type": "code",
   "execution_count": 37,
   "id": "06a7ea0f",
   "metadata": {},
   "outputs": [
    {
     "name": "stdout",
     "output_type": "stream",
     "text": [
      "[20, 21]\n"
     ]
    }
   ],
   "source": [
    "columnas = [\"CodigoPuerto\",\"CodigoPais\"]\n",
    "fila_objetivo = df_puerto.loc[21,columnas]\n",
    "coincidencias = df_puerto[columnas].eq(fila_objetivo).all(axis=1)\n",
    "indices_coincidentes = df_puerto[coincidencias].index.tolist()\n",
    "print(indices_coincidentes)"
   ]
  },
  {
   "cell_type": "code",
   "execution_count": 38,
   "id": "2b540547",
   "metadata": {},
   "outputs": [
    {
     "data": {
      "text/html": [
       "<div>\n",
       "<style scoped>\n",
       "    .dataframe tbody tr th:only-of-type {\n",
       "        vertical-align: middle;\n",
       "    }\n",
       "\n",
       "    .dataframe tbody tr th {\n",
       "        vertical-align: top;\n",
       "    }\n",
       "\n",
       "    .dataframe thead th {\n",
       "        text-align: right;\n",
       "    }\n",
       "</style>\n",
       "<table border=\"1\" class=\"dataframe\">\n",
       "  <thead>\n",
       "    <tr style=\"text-align: right;\">\n",
       "      <th></th>\n",
       "      <th>CodigoPuerto</th>\n",
       "      <th>CodigoPais</th>\n",
       "      <th>NombrePuerto</th>\n",
       "      <th>TipoTransporte</th>\n",
       "      <th>EsPuertoLocal</th>\n",
       "      <th>NombreAntiguo</th>\n",
       "      <th>CodAntiguo</th>\n",
       "    </tr>\n",
       "  </thead>\n",
       "  <tbody>\n",
       "    <tr>\n",
       "      <th>20</th>\n",
       "      <td>MLAA</td>\n",
       "      <td>ES</td>\n",
       "      <td>MALAGA</td>\n",
       "      <td>A</td>\n",
       "      <td>0</td>\n",
       "      <td>MALAGA</td>\n",
       "      <td>AGP</td>\n",
       "    </tr>\n",
       "    <tr>\n",
       "      <th>21</th>\n",
       "      <td>MLAA</td>\n",
       "      <td>ES</td>\n",
       "      <td>MALAGA</td>\n",
       "      <td>M</td>\n",
       "      <td>0</td>\n",
       "      <td>MALAGA</td>\n",
       "      <td>AGP</td>\n",
       "    </tr>\n",
       "  </tbody>\n",
       "</table>\n",
       "</div>"
      ],
      "text/plain": [
       "   CodigoPuerto CodigoPais NombrePuerto TipoTransporte  EsPuertoLocal  \\\n",
       "20         MLAA         ES       MALAGA              A              0   \n",
       "21         MLAA         ES       MALAGA              M              0   \n",
       "\n",
       "   NombreAntiguo CodAntiguo  \n",
       "20        MALAGA        AGP  \n",
       "21        MALAGA        AGP  "
      ]
     },
     "execution_count": 38,
     "metadata": {},
     "output_type": "execute_result"
    }
   ],
   "source": [
    "df_puerto.loc[[20,21]]"
   ]
  },
  {
   "cell_type": "code",
   "execution_count": 39,
   "id": "1b1f714c",
   "metadata": {},
   "outputs": [],
   "source": [
    "df_puerto.drop_duplicates(subset=[\"CodigoPuerto\", \"CodigoPais\"], keep=\"first\", inplace=True)"
   ]
  },
  {
   "cell_type": "code",
   "execution_count": 40,
   "id": "9728afcc",
   "metadata": {},
   "outputs": [],
   "source": [
    "df_puerto.to_csv(\"Puerto_silver.csv\",index=False)\n"
   ]
  },
  {
   "cell_type": "code",
   "execution_count": 41,
   "id": "27af63a5",
   "metadata": {},
   "outputs": [],
   "source": [
    "df_puerto = df_puerto.drop([\"NombrePuerto\",],axis=1)"
   ]
  },
  {
   "cell_type": "code",
   "execution_count": 42,
   "id": "91ff4c3d",
   "metadata": {},
   "outputs": [
    {
     "data": {
      "text/html": [
       "<div>\n",
       "<style scoped>\n",
       "    .dataframe tbody tr th:only-of-type {\n",
       "        vertical-align: middle;\n",
       "    }\n",
       "\n",
       "    .dataframe tbody tr th {\n",
       "        vertical-align: top;\n",
       "    }\n",
       "\n",
       "    .dataframe thead th {\n",
       "        text-align: right;\n",
       "    }\n",
       "</style>\n",
       "<table border=\"1\" class=\"dataframe\">\n",
       "  <thead>\n",
       "    <tr style=\"text-align: right;\">\n",
       "      <th></th>\n",
       "      <th>CodigoPuerto</th>\n",
       "      <th>CodigoPais</th>\n",
       "      <th>TipoTransporte</th>\n",
       "      <th>EsPuertoLocal</th>\n",
       "      <th>NombreAntiguo</th>\n",
       "      <th>CodAntiguo</th>\n",
       "    </tr>\n",
       "  </thead>\n",
       "  <tbody>\n",
       "  </tbody>\n",
       "</table>\n",
       "</div>"
      ],
      "text/plain": [
       "Empty DataFrame\n",
       "Columns: [CodigoPuerto, CodigoPais, TipoTransporte, EsPuertoLocal, NombreAntiguo, CodAntiguo]\n",
       "Index: []"
      ]
     },
     "execution_count": 42,
     "metadata": {},
     "output_type": "execute_result"
    }
   ],
   "source": [
    "df_puerto[df_puerto.duplicated(subset=[\"CodigoPuerto\",\"CodigoPais\"],keep=False)]"
   ]
  },
  {
   "cell_type": "code",
   "execution_count": 43,
   "id": "19d60d1a",
   "metadata": {},
   "outputs": [],
   "source": [
    "df_puerto = df_puerto.drop([\"CodAntiguo\",],axis=1)"
   ]
  },
  {
   "cell_type": "code",
   "execution_count": 44,
   "id": "b79e1fb2",
   "metadata": {},
   "outputs": [],
   "source": [
    "df_puerto=df_puerto.rename(columns={\"NombreAntiguo\": \"NombrePuerto\"})"
   ]
  },
  {
   "cell_type": "code",
   "execution_count": 45,
   "id": "7967e280",
   "metadata": {},
   "outputs": [
    {
     "data": {
      "text/html": [
       "<div>\n",
       "<style scoped>\n",
       "    .dataframe tbody tr th:only-of-type {\n",
       "        vertical-align: middle;\n",
       "    }\n",
       "\n",
       "    .dataframe tbody tr th {\n",
       "        vertical-align: top;\n",
       "    }\n",
       "\n",
       "    .dataframe thead th {\n",
       "        text-align: right;\n",
       "    }\n",
       "</style>\n",
       "<table border=\"1\" class=\"dataframe\">\n",
       "  <thead>\n",
       "    <tr style=\"text-align: right;\">\n",
       "      <th></th>\n",
       "      <th>CodigoPuerto</th>\n",
       "      <th>CodigoPais</th>\n",
       "      <th>TipoTransporte</th>\n",
       "      <th>EsPuertoLocal</th>\n",
       "      <th>NombrePuerto</th>\n",
       "    </tr>\n",
       "  </thead>\n",
       "  <tbody>\n",
       "    <tr>\n",
       "      <th>0</th>\n",
       "      <td>KPER</td>\n",
       "      <td>SI</td>\n",
       "      <td>M</td>\n",
       "      <td>0</td>\n",
       "      <td>KOPER</td>\n",
       "    </tr>\n",
       "    <tr>\n",
       "      <th>1</th>\n",
       "      <td>HARA</td>\n",
       "      <td>TR</td>\n",
       "      <td>M</td>\n",
       "      <td>0</td>\n",
       "      <td>HAYDARPASA</td>\n",
       "    </tr>\n",
       "    <tr>\n",
       "      <th>2</th>\n",
       "      <td>ANAA</td>\n",
       "      <td>DZ</td>\n",
       "      <td>M</td>\n",
       "      <td>0</td>\n",
       "      <td>ANNABA</td>\n",
       "    </tr>\n",
       "    <tr>\n",
       "      <th>3</th>\n",
       "      <td>ACHN</td>\n",
       "      <td>DE</td>\n",
       "      <td>M</td>\n",
       "      <td>0</td>\n",
       "      <td>AACHEN</td>\n",
       "    </tr>\n",
       "    <tr>\n",
       "      <th>4</th>\n",
       "      <td>ABOG</td>\n",
       "      <td>DK</td>\n",
       "      <td>M</td>\n",
       "      <td>0</td>\n",
       "      <td>AALBORG</td>\n",
       "    </tr>\n",
       "    <tr>\n",
       "      <th>...</th>\n",
       "      <td>...</td>\n",
       "      <td>...</td>\n",
       "      <td>...</td>\n",
       "      <td>...</td>\n",
       "      <td>...</td>\n",
       "    </tr>\n",
       "    <tr>\n",
       "      <th>1056</th>\n",
       "      <td>ZGSN</td>\n",
       "      <td>CN</td>\n",
       "      <td>M</td>\n",
       "      <td>0</td>\n",
       "      <td>ZHONGSHAN</td>\n",
       "    </tr>\n",
       "    <tr>\n",
       "      <th>1057</th>\n",
       "      <td>ZUHI</td>\n",
       "      <td>CN</td>\n",
       "      <td>M</td>\n",
       "      <td>0</td>\n",
       "      <td>ZHUHAI</td>\n",
       "    </tr>\n",
       "    <tr>\n",
       "      <th>1058</th>\n",
       "      <td>ZCKU</td>\n",
       "      <td>DE</td>\n",
       "      <td>M</td>\n",
       "      <td>0</td>\n",
       "      <td>ZWICKAU</td>\n",
       "    </tr>\n",
       "    <tr>\n",
       "      <th>1059</th>\n",
       "      <td>XGAG</td>\n",
       "      <td>CN</td>\n",
       "      <td>M</td>\n",
       "      <td>0</td>\n",
       "      <td>XINGANG</td>\n",
       "    </tr>\n",
       "    <tr>\n",
       "      <th>1060</th>\n",
       "      <td>ZGZU</td>\n",
       "      <td>CN</td>\n",
       "      <td>M</td>\n",
       "      <td>0</td>\n",
       "      <td>ZHANGZHOU</td>\n",
       "    </tr>\n",
       "  </tbody>\n",
       "</table>\n",
       "<p>1004 rows × 5 columns</p>\n",
       "</div>"
      ],
      "text/plain": [
       "     CodigoPuerto CodigoPais TipoTransporte  EsPuertoLocal NombrePuerto\n",
       "0            KPER         SI              M              0        KOPER\n",
       "1            HARA         TR              M              0   HAYDARPASA\n",
       "2            ANAA         DZ              M              0       ANNABA\n",
       "3            ACHN         DE              M              0       AACHEN\n",
       "4            ABOG         DK              M              0      AALBORG\n",
       "...           ...        ...            ...            ...          ...\n",
       "1056         ZGSN         CN              M              0    ZHONGSHAN\n",
       "1057         ZUHI         CN              M              0       ZHUHAI\n",
       "1058         ZCKU         DE              M              0      ZWICKAU\n",
       "1059         XGAG         CN              M              0      XINGANG\n",
       "1060         ZGZU         CN              M              0    ZHANGZHOU\n",
       "\n",
       "[1004 rows x 5 columns]"
      ]
     },
     "execution_count": 45,
     "metadata": {},
     "output_type": "execute_result"
    }
   ],
   "source": [
    "df_puerto"
   ]
  },
  {
   "cell_type": "code",
   "execution_count": 46,
   "id": "5c22cbdc",
   "metadata": {},
   "outputs": [],
   "source": [
    "df_puerto.to_csv(\"Puerto_Gold.csv\",index=False)"
   ]
  },
  {
   "cell_type": "code",
   "execution_count": null,
   "id": "217e968e",
   "metadata": {},
   "outputs": [],
   "source": []
  }
 ],
 "metadata": {
  "kernelspec": {
   "display_name": ".venv",
   "language": "python",
   "name": "python3"
  },
  "language_info": {
   "codemirror_mode": {
    "name": "ipython",
    "version": 3
   },
   "file_extension": ".py",
   "mimetype": "text/x-python",
   "name": "python",
   "nbconvert_exporter": "python",
   "pygments_lexer": "ipython3",
   "version": "3.12.5"
  }
 },
 "nbformat": 4,
 "nbformat_minor": 5
}
