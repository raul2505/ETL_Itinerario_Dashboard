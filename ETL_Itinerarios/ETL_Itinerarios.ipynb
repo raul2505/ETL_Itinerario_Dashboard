{
 "cells": [
  {
   "cell_type": "code",
   "execution_count": 6,
   "id": "418853d0",
   "metadata": {},
   "outputs": [
    {
     "name": "stdout",
     "output_type": "stream",
     "text": [
      "Requirement already satisfied: openpyxl in c:\\users\\erick\\onedrive\\escritorio\\itinerarios_etl\\.venv\\lib\\site-packages (3.1.5)\n",
      "Requirement already satisfied: et-xmlfile in c:\\users\\erick\\onedrive\\escritorio\\itinerarios_etl\\.venv\\lib\\site-packages (from openpyxl) (2.0.0)\n",
      "Note: you may need to restart the kernel to use updated packages.\n"
     ]
    }
   ],
   "source": [
    "pip install openpyxl\n"
   ]
  },
  {
   "cell_type": "code",
   "execution_count": 13,
   "id": "e6b264c0",
   "metadata": {},
   "outputs": [
    {
     "name": "stdout",
     "output_type": "stream",
     "text": [
      "Collecting pandas\n",
      "  Downloading pandas-2.3.1-cp312-cp312-win_amd64.whl.metadata (19 kB)\n",
      "Collecting numpy>=1.26.0 (from pandas)\n",
      "  Downloading numpy-2.3.1-cp312-cp312-win_amd64.whl.metadata (60 kB)\n",
      "Requirement already satisfied: python-dateutil>=2.8.2 in c:\\users\\erick\\onedrive\\escritorio\\itinerarios_etl\\.venv\\lib\\site-packages (from pandas) (2.9.0.post0)\n",
      "Collecting pytz>=2020.1 (from pandas)\n",
      "  Using cached pytz-2025.2-py2.py3-none-any.whl.metadata (22 kB)\n",
      "Collecting tzdata>=2022.7 (from pandas)\n",
      "  Using cached tzdata-2025.2-py2.py3-none-any.whl.metadata (1.4 kB)\n",
      "Requirement already satisfied: six>=1.5 in c:\\users\\erick\\onedrive\\escritorio\\itinerarios_etl\\.venv\\lib\\site-packages (from python-dateutil>=2.8.2->pandas) (1.17.0)\n",
      "Downloading pandas-2.3.1-cp312-cp312-win_amd64.whl (11.0 MB)\n",
      "   ---------------------------------------- 0.0/11.0 MB ? eta -:--:--\n",
      "   ---------------------------------------  10.7/11.0 MB 61.0 MB/s eta 0:00:01\n",
      "   ---------------------------------------- 11.0/11.0 MB 42.9 MB/s eta 0:00:00\n",
      "Downloading numpy-2.3.1-cp312-cp312-win_amd64.whl (12.7 MB)\n",
      "   ---------------------------------------- 0.0/12.7 MB ? eta -:--:--\n",
      "   ---------------------------------------  12.6/12.7 MB 98.6 MB/s eta 0:00:01\n",
      "   ---------------------------------------- 12.7/12.7 MB 61.4 MB/s eta 0:00:00\n",
      "Using cached pytz-2025.2-py2.py3-none-any.whl (509 kB)\n",
      "Using cached tzdata-2025.2-py2.py3-none-any.whl (347 kB)\n",
      "Installing collected packages: pytz, tzdata, numpy, pandas\n",
      "\n",
      "   ---------------------------------------- 0/4 [pytz]\n",
      "   ---------------------------------------- 0/4 [pytz]\n",
      "   ---------------------------------------- 0/4 [pytz]\n",
      "   ---------- ----------------------------- 1/4 [tzdata]\n",
      "   ---------- ----------------------------- 1/4 [tzdata]\n",
      "   -------------------- ------------------- 2/4 [numpy]\n",
      "   -------------------- ------------------- 2/4 [numpy]\n",
      "   -------------------- ------------------- 2/4 [numpy]\n",
      "   -------------------- ------------------- 2/4 [numpy]\n",
      "   -------------------- ------------------- 2/4 [numpy]\n",
      "   -------------------- ------------------- 2/4 [numpy]\n",
      "   -------------------- ------------------- 2/4 [numpy]\n",
      "   -------------------- ------------------- 2/4 [numpy]\n",
      "   -------------------- ------------------- 2/4 [numpy]\n",
      "   -------------------- ------------------- 2/4 [numpy]\n",
      "   -------------------- ------------------- 2/4 [numpy]\n",
      "   -------------------- ------------------- 2/4 [numpy]\n",
      "   -------------------- ------------------- 2/4 [numpy]\n",
      "   -------------------- ------------------- 2/4 [numpy]\n",
      "   -------------------- ------------------- 2/4 [numpy]\n",
      "   -------------------- ------------------- 2/4 [numpy]\n",
      "   -------------------- ------------------- 2/4 [numpy]\n",
      "   -------------------- ------------------- 2/4 [numpy]\n",
      "   -------------------- ------------------- 2/4 [numpy]\n",
      "   -------------------- ------------------- 2/4 [numpy]\n",
      "   -------------------- ------------------- 2/4 [numpy]\n",
      "   -------------------- ------------------- 2/4 [numpy]\n",
      "   -------------------- ------------------- 2/4 [numpy]\n",
      "   -------------------- ------------------- 2/4 [numpy]\n",
      "   -------------------- ------------------- 2/4 [numpy]\n",
      "   -------------------- ------------------- 2/4 [numpy]\n",
      "   -------------------- ------------------- 2/4 [numpy]\n",
      "   -------------------- ------------------- 2/4 [numpy]\n",
      "   -------------------- ------------------- 2/4 [numpy]\n",
      "   -------------------- ------------------- 2/4 [numpy]\n",
      "   -------------------- ------------------- 2/4 [numpy]\n",
      "   -------------------- ------------------- 2/4 [numpy]\n",
      "   -------------------- ------------------- 2/4 [numpy]\n",
      "   -------------------- ------------------- 2/4 [numpy]\n",
      "   -------------------- ------------------- 2/4 [numpy]\n",
      "   -------------------- ------------------- 2/4 [numpy]\n",
      "   -------------------- ------------------- 2/4 [numpy]\n",
      "   -------------------- ------------------- 2/4 [numpy]\n",
      "   -------------------- ------------------- 2/4 [numpy]\n",
      "   -------------------- ------------------- 2/4 [numpy]\n",
      "   -------------------- ------------------- 2/4 [numpy]\n",
      "   -------------------- ------------------- 2/4 [numpy]\n",
      "   -------------------- ------------------- 2/4 [numpy]\n",
      "   -------------------- ------------------- 2/4 [numpy]\n",
      "   -------------------- ------------------- 2/4 [numpy]\n",
      "   -------------------- ------------------- 2/4 [numpy]\n",
      "   -------------------- ------------------- 2/4 [numpy]\n",
      "   -------------------- ------------------- 2/4 [numpy]\n",
      "   -------------------- ------------------- 2/4 [numpy]\n",
      "   -------------------- ------------------- 2/4 [numpy]\n",
      "   -------------------- ------------------- 2/4 [numpy]\n",
      "   -------------------- ------------------- 2/4 [numpy]\n",
      "   ------------------------------ --------- 3/4 [pandas]\n",
      "   ------------------------------ --------- 3/4 [pandas]\n",
      "   ------------------------------ --------- 3/4 [pandas]\n",
      "   ------------------------------ --------- 3/4 [pandas]\n",
      "   ------------------------------ --------- 3/4 [pandas]\n",
      "   ------------------------------ --------- 3/4 [pandas]\n",
      "   ------------------------------ --------- 3/4 [pandas]\n",
      "   ------------------------------ --------- 3/4 [pandas]\n",
      "   ------------------------------ --------- 3/4 [pandas]\n",
      "   ------------------------------ --------- 3/4 [pandas]\n",
      "   ------------------------------ --------- 3/4 [pandas]\n",
      "   ------------------------------ --------- 3/4 [pandas]\n",
      "   ------------------------------ --------- 3/4 [pandas]\n",
      "   ------------------------------ --------- 3/4 [pandas]\n",
      "   ------------------------------ --------- 3/4 [pandas]\n",
      "   ------------------------------ --------- 3/4 [pandas]\n",
      "   ------------------------------ --------- 3/4 [pandas]\n",
      "   ------------------------------ --------- 3/4 [pandas]\n",
      "   ------------------------------ --------- 3/4 [pandas]\n",
      "   ------------------------------ --------- 3/4 [pandas]\n",
      "   ------------------------------ --------- 3/4 [pandas]\n",
      "   ------------------------------ --------- 3/4 [pandas]\n",
      "   ------------------------------ --------- 3/4 [pandas]\n",
      "   ------------------------------ --------- 3/4 [pandas]\n",
      "   ------------------------------ --------- 3/4 [pandas]\n",
      "   ------------------------------ --------- 3/4 [pandas]\n",
      "   ------------------------------ --------- 3/4 [pandas]\n",
      "   ------------------------------ --------- 3/4 [pandas]\n",
      "   ------------------------------ --------- 3/4 [pandas]\n",
      "   ------------------------------ --------- 3/4 [pandas]\n",
      "   ------------------------------ --------- 3/4 [pandas]\n",
      "   ------------------------------ --------- 3/4 [pandas]\n",
      "   ------------------------------ --------- 3/4 [pandas]\n",
      "   ------------------------------ --------- 3/4 [pandas]\n",
      "   ------------------------------ --------- 3/4 [pandas]\n",
      "   ------------------------------ --------- 3/4 [pandas]\n",
      "   ------------------------------ --------- 3/4 [pandas]\n",
      "   ------------------------------ --------- 3/4 [pandas]\n",
      "   ------------------------------ --------- 3/4 [pandas]\n",
      "   ------------------------------ --------- 3/4 [pandas]\n",
      "   ------------------------------ --------- 3/4 [pandas]\n",
      "   ------------------------------ --------- 3/4 [pandas]\n",
      "   ------------------------------ --------- 3/4 [pandas]\n",
      "   ------------------------------ --------- 3/4 [pandas]\n",
      "   ------------------------------ --------- 3/4 [pandas]\n",
      "   ------------------------------ --------- 3/4 [pandas]\n",
      "   ------------------------------ --------- 3/4 [pandas]\n",
      "   ------------------------------ --------- 3/4 [pandas]\n",
      "   ------------------------------ --------- 3/4 [pandas]\n",
      "   ------------------------------ --------- 3/4 [pandas]\n",
      "   ------------------------------ --------- 3/4 [pandas]\n",
      "   ------------------------------ --------- 3/4 [pandas]\n",
      "   ------------------------------ --------- 3/4 [pandas]\n",
      "   ------------------------------ --------- 3/4 [pandas]\n",
      "   ------------------------------ --------- 3/4 [pandas]\n",
      "   ------------------------------ --------- 3/4 [pandas]\n",
      "   ------------------------------ --------- 3/4 [pandas]\n",
      "   ------------------------------ --------- 3/4 [pandas]\n",
      "   ------------------------------ --------- 3/4 [pandas]\n",
      "   ------------------------------ --------- 3/4 [pandas]\n",
      "   ------------------------------ --------- 3/4 [pandas]\n",
      "   ------------------------------ --------- 3/4 [pandas]\n",
      "   ------------------------------ --------- 3/4 [pandas]\n",
      "   ------------------------------ --------- 3/4 [pandas]\n",
      "   ------------------------------ --------- 3/4 [pandas]\n",
      "   ------------------------------ --------- 3/4 [pandas]\n",
      "   ------------------------------ --------- 3/4 [pandas]\n",
      "   ------------------------------ --------- 3/4 [pandas]\n",
      "   ------------------------------ --------- 3/4 [pandas]\n",
      "   ------------------------------ --------- 3/4 [pandas]\n",
      "   ------------------------------ --------- 3/4 [pandas]\n",
      "   ------------------------------ --------- 3/4 [pandas]\n",
      "   ------------------------------ --------- 3/4 [pandas]\n",
      "   ------------------------------ --------- 3/4 [pandas]\n",
      "   ------------------------------ --------- 3/4 [pandas]\n",
      "   ------------------------------ --------- 3/4 [pandas]\n",
      "   ------------------------------ --------- 3/4 [pandas]\n",
      "   ------------------------------ --------- 3/4 [pandas]\n",
      "   ------------------------------ --------- 3/4 [pandas]\n",
      "   ------------------------------ --------- 3/4 [pandas]\n",
      "   ------------------------------ --------- 3/4 [pandas]\n",
      "   ------------------------------ --------- 3/4 [pandas]\n",
      "   ------------------------------ --------- 3/4 [pandas]\n",
      "   ------------------------------ --------- 3/4 [pandas]\n",
      "   ------------------------------ --------- 3/4 [pandas]\n",
      "   ------------------------------ --------- 3/4 [pandas]\n",
      "   ------------------------------ --------- 3/4 [pandas]\n",
      "   ------------------------------ --------- 3/4 [pandas]\n",
      "   ------------------------------ --------- 3/4 [pandas]\n",
      "   ------------------------------ --------- 3/4 [pandas]\n",
      "   ------------------------------ --------- 3/4 [pandas]\n",
      "   ------------------------------ --------- 3/4 [pandas]\n",
      "   ------------------------------ --------- 3/4 [pandas]\n",
      "   ------------------------------ --------- 3/4 [pandas]\n",
      "   ------------------------------ --------- 3/4 [pandas]\n",
      "   ------------------------------ --------- 3/4 [pandas]\n",
      "   ------------------------------ --------- 3/4 [pandas]\n",
      "   ------------------------------ --------- 3/4 [pandas]\n",
      "   ------------------------------ --------- 3/4 [pandas]\n",
      "   ------------------------------ --------- 3/4 [pandas]\n",
      "   ------------------------------ --------- 3/4 [pandas]\n",
      "   ------------------------------ --------- 3/4 [pandas]\n",
      "   ------------------------------ --------- 3/4 [pandas]\n",
      "   ------------------------------ --------- 3/4 [pandas]\n",
      "   ------------------------------ --------- 3/4 [pandas]\n",
      "   ------------------------------ --------- 3/4 [pandas]\n",
      "   ------------------------------ --------- 3/4 [pandas]\n",
      "   ------------------------------ --------- 3/4 [pandas]\n",
      "   ------------------------------ --------- 3/4 [pandas]\n",
      "   ------------------------------ --------- 3/4 [pandas]\n",
      "   ------------------------------ --------- 3/4 [pandas]\n",
      "   ------------------------------ --------- 3/4 [pandas]\n",
      "   ------------------------------ --------- 3/4 [pandas]\n",
      "   ------------------------------ --------- 3/4 [pandas]\n",
      "   ------------------------------ --------- 3/4 [pandas]\n",
      "   ------------------------------ --------- 3/4 [pandas]\n",
      "   ------------------------------ --------- 3/4 [pandas]\n",
      "   ------------------------------ --------- 3/4 [pandas]\n",
      "   ------------------------------ --------- 3/4 [pandas]\n",
      "   ------------------------------ --------- 3/4 [pandas]\n",
      "   ------------------------------ --------- 3/4 [pandas]\n",
      "   ------------------------------ --------- 3/4 [pandas]\n",
      "   ------------------------------ --------- 3/4 [pandas]\n",
      "   ------------------------------ --------- 3/4 [pandas]\n",
      "   ------------------------------ --------- 3/4 [pandas]\n",
      "   ------------------------------ --------- 3/4 [pandas]\n",
      "   ------------------------------ --------- 3/4 [pandas]\n",
      "   ------------------------------ --------- 3/4 [pandas]\n",
      "   ------------------------------ --------- 3/4 [pandas]\n",
      "   ------------------------------ --------- 3/4 [pandas]\n",
      "   ------------------------------ --------- 3/4 [pandas]\n",
      "   ------------------------------ --------- 3/4 [pandas]\n",
      "   ------------------------------ --------- 3/4 [pandas]\n",
      "   ------------------------------ --------- 3/4 [pandas]\n",
      "   ------------------------------ --------- 3/4 [pandas]\n",
      "   ------------------------------ --------- 3/4 [pandas]\n",
      "   ------------------------------ --------- 3/4 [pandas]\n",
      "   ------------------------------ --------- 3/4 [pandas]\n",
      "   ------------------------------ --------- 3/4 [pandas]\n",
      "   ------------------------------ --------- 3/4 [pandas]\n",
      "   ------------------------------ --------- 3/4 [pandas]\n",
      "   ------------------------------ --------- 3/4 [pandas]\n",
      "   ------------------------------ --------- 3/4 [pandas]\n",
      "   ---------------------------------------- 4/4 [pandas]\n",
      "\n",
      "Successfully installed numpy-2.3.1 pandas-2.3.1 pytz-2025.2 tzdata-2025.2\n",
      "Note: you may need to restart the kernel to use updated packages.\n"
     ]
    }
   ],
   "source": [
    "pip install pandas"
   ]
  },
  {
   "cell_type": "code",
   "execution_count": null,
   "id": "707f154c",
   "metadata": {},
   "outputs": [],
   "source": [
    "#Importamos pandas para poder leer el archivo excel\n",
    "import pandas as pd\n",
    "df_itinerario = pd.read_excel(\"Bd_Itinerarios.xlsx\",sheet_name=\"itinerario\")"
   ]
  },
  {
   "cell_type": "code",
   "execution_count": 16,
   "id": "57bb45ad",
   "metadata": {},
   "outputs": [
    {
     "name": "stdout",
     "output_type": "stream",
     "text": [
      "<class 'pandas.core.frame.DataFrame'>\n",
      "RangeIndex: 3475 entries, 0 to 3474\n",
      "Data columns (total 9 columns):\n",
      " #   Column                Non-Null Count  Dtype         \n",
      "---  ------                --------------  -----         \n",
      " 0   CodigoNave            3475 non-null   object        \n",
      " 1   Viaje                 3475 non-null   object        \n",
      " 2   Rumbo                 3475 non-null   object        \n",
      " 3   CodigoPaisCarga       3475 non-null   object        \n",
      " 4   CodigoPuertoCarga     3475 non-null   object        \n",
      " 5   CodigoPaisDesCarga    3475 non-null   object        \n",
      " 6   CodigoPuertoDesCarga  3475 non-null   object        \n",
      " 7   fechaSalida           3475 non-null   datetime64[ns]\n",
      " 8   fechaLlegada          3475 non-null   datetime64[ns]\n",
      "dtypes: datetime64[ns](2), object(7)\n",
      "memory usage: 244.5+ KB\n"
     ]
    }
   ],
   "source": [
    "df_itinerario.info()"
   ]
  },
  {
   "cell_type": "code",
   "execution_count": 17,
   "id": "e878bb7b",
   "metadata": {},
   "outputs": [
    {
     "data": {
      "text/html": [
       "<div>\n",
       "<style scoped>\n",
       "    .dataframe tbody tr th:only-of-type {\n",
       "        vertical-align: middle;\n",
       "    }\n",
       "\n",
       "    .dataframe tbody tr th {\n",
       "        vertical-align: top;\n",
       "    }\n",
       "\n",
       "    .dataframe thead th {\n",
       "        text-align: right;\n",
       "    }\n",
       "</style>\n",
       "<table border=\"1\" class=\"dataframe\">\n",
       "  <thead>\n",
       "    <tr style=\"text-align: right;\">\n",
       "      <th></th>\n",
       "      <th>fechaSalida</th>\n",
       "      <th>fechaLlegada</th>\n",
       "    </tr>\n",
       "  </thead>\n",
       "  <tbody>\n",
       "    <tr>\n",
       "      <th>count</th>\n",
       "      <td>3475</td>\n",
       "      <td>3475</td>\n",
       "    </tr>\n",
       "    <tr>\n",
       "      <th>mean</th>\n",
       "      <td>2023-05-13 11:51:30.302158080</td>\n",
       "      <td>2023-05-27 01:40:16.920863232</td>\n",
       "    </tr>\n",
       "    <tr>\n",
       "      <th>min</th>\n",
       "      <td>2022-05-02 00:00:00</td>\n",
       "      <td>2022-06-04 00:00:00</td>\n",
       "    </tr>\n",
       "    <tr>\n",
       "      <th>25%</th>\n",
       "      <td>2022-11-30 00:00:00</td>\n",
       "      <td>2022-12-12 12:00:00</td>\n",
       "    </tr>\n",
       "    <tr>\n",
       "      <th>50%</th>\n",
       "      <td>2023-05-06 00:00:00</td>\n",
       "      <td>2023-05-21 00:00:00</td>\n",
       "    </tr>\n",
       "    <tr>\n",
       "      <th>75%</th>\n",
       "      <td>2023-09-29 12:00:00</td>\n",
       "      <td>2023-10-12 00:00:00</td>\n",
       "    </tr>\n",
       "    <tr>\n",
       "      <th>max</th>\n",
       "      <td>2025-02-02 00:00:00</td>\n",
       "      <td>2025-02-04 00:00:00</td>\n",
       "    </tr>\n",
       "  </tbody>\n",
       "</table>\n",
       "</div>"
      ],
      "text/plain": [
       "                         fechaSalida                   fechaLlegada\n",
       "count                           3475                           3475\n",
       "mean   2023-05-13 11:51:30.302158080  2023-05-27 01:40:16.920863232\n",
       "min              2022-05-02 00:00:00            2022-06-04 00:00:00\n",
       "25%              2022-11-30 00:00:00            2022-12-12 12:00:00\n",
       "50%              2023-05-06 00:00:00            2023-05-21 00:00:00\n",
       "75%              2023-09-29 12:00:00            2023-10-12 00:00:00\n",
       "max              2025-02-02 00:00:00            2025-02-04 00:00:00"
      ]
     },
     "execution_count": 17,
     "metadata": {},
     "output_type": "execute_result"
    }
   ],
   "source": [
    "df_itinerario.describe()"
   ]
  },
  {
   "cell_type": "code",
   "execution_count": 18,
   "id": "683aa0d4",
   "metadata": {},
   "outputs": [],
   "source": [
    "df_itinerario[\"Viaje\"] = (\n",
    "    df_itinerario[\"Viaje\"]\n",
    "    .astype(str)                          # Convierte todo a string\n",
    "    .str.replace(r'\\D', '', regex=True)  # Elimina todo lo que no sea número\n",
    "    .replace('', '0')                    # Reemplaza los vacíos con '0'\n",
    "    .astype(int)                         # Convierte el resultado a entero\n",
    ")"
   ]
  },
  {
   "cell_type": "code",
   "execution_count": 24,
   "id": "2be843ff",
   "metadata": {},
   "outputs": [
    {
     "data": {
      "text/plain": [
       "Index([  44,  149,  308,  320,  384,  394,  395,  526,  648,  722,  723,  734,\n",
       "        735,  800, 1021, 1086, 1106, 1116, 1117, 1158, 1257, 1265, 1295, 1296,\n",
       "       1363, 1384, 1396, 1489, 1494, 1510, 1511, 1612, 1683, 1684, 1705, 1743,\n",
       "       1745, 1795, 1796, 1908, 1921, 1928, 1929, 1971, 2034, 2278, 2361, 2559,\n",
       "       2599, 2620, 2698, 2898, 2899, 2955, 3058, 3059, 3083, 3233, 3248, 3384,\n",
       "       3385, 3400, 3401, 3434, 3435],\n",
       "      dtype='int64')"
      ]
     },
     "execution_count": 24,
     "metadata": {},
     "output_type": "execute_result"
    }
   ],
   "source": [
    "df_itinerario[df_itinerario.duplicated(subset=[\"CodigoNave\",\"Viaje\",\"CodigoPaisCarga\",\"CodigoPuertoCarga\",\"CodigoPaisDesCarga\",\"CodigoPuertoDesCarga\",\"fechaSalida\",\"fechaLlegada\"])].index\n"
   ]
  },
  {
   "cell_type": "code",
   "execution_count": 25,
   "id": "a2b84012",
   "metadata": {},
   "outputs": [
    {
     "name": "stdout",
     "output_type": "stream",
     "text": [
      "[23, 44]\n"
     ]
    }
   ],
   "source": [
    "# Guardas la fila que quieres comparar\n",
    "fila_objetivo = df_itinerario.loc[44]\n",
    "\n",
    "# Comparas cada fila (axis=1 significa comparar por columnas)\n",
    "coincidencias = df_itinerario.eq(fila_objetivo).all(axis=1)\n",
    "\n",
    "# Ves todos los índices que son iguales a tu fila objetivo\n",
    "indices_coincidentes = df_itinerario[coincidencias].index.tolist()\n",
    "\n",
    "print(indices_coincidentes)"
   ]
  },
  {
   "cell_type": "code",
   "execution_count": 23,
   "id": "917c46e4",
   "metadata": {},
   "outputs": [
    {
     "data": {
      "text/html": [
       "<div>\n",
       "<style scoped>\n",
       "    .dataframe tbody tr th:only-of-type {\n",
       "        vertical-align: middle;\n",
       "    }\n",
       "\n",
       "    .dataframe tbody tr th {\n",
       "        vertical-align: top;\n",
       "    }\n",
       "\n",
       "    .dataframe thead th {\n",
       "        text-align: right;\n",
       "    }\n",
       "</style>\n",
       "<table border=\"1\" class=\"dataframe\">\n",
       "  <thead>\n",
       "    <tr style=\"text-align: right;\">\n",
       "      <th></th>\n",
       "      <th>CodigoNave</th>\n",
       "      <th>Viaje</th>\n",
       "      <th>Rumbo</th>\n",
       "      <th>CodigoPaisCarga</th>\n",
       "      <th>CodigoPuertoCarga</th>\n",
       "      <th>CodigoPaisDesCarga</th>\n",
       "      <th>CodigoPuertoDesCarga</th>\n",
       "      <th>fechaSalida</th>\n",
       "      <th>fechaLlegada</th>\n",
       "    </tr>\n",
       "  </thead>\n",
       "  <tbody>\n",
       "    <tr>\n",
       "      <th>23</th>\n",
       "      <td>1</td>\n",
       "      <td>707</td>\n",
       "      <td>E</td>\n",
       "      <td>KR</td>\n",
       "      <td>PUS</td>\n",
       "      <td>PE</td>\n",
       "      <td>CLL</td>\n",
       "      <td>2022-09-20</td>\n",
       "      <td>2022-10-15</td>\n",
       "    </tr>\n",
       "    <tr>\n",
       "      <th>44</th>\n",
       "      <td>1</td>\n",
       "      <td>707</td>\n",
       "      <td>E</td>\n",
       "      <td>KR</td>\n",
       "      <td>PUS</td>\n",
       "      <td>PE</td>\n",
       "      <td>CLL</td>\n",
       "      <td>2022-09-20</td>\n",
       "      <td>2022-10-15</td>\n",
       "    </tr>\n",
       "  </tbody>\n",
       "</table>\n",
       "</div>"
      ],
      "text/plain": [
       "   CodigoNave  Viaje Rumbo CodigoPaisCarga CodigoPuertoCarga  \\\n",
       "23          1    707     E              KR               PUS   \n",
       "44          1    707     E              KR               PUS   \n",
       "\n",
       "   CodigoPaisDesCarga CodigoPuertoDesCarga fechaSalida fechaLlegada  \n",
       "23                 PE                  CLL  2022-09-20   2022-10-15  \n",
       "44                 PE                  CLL  2022-09-20   2022-10-15  "
      ]
     },
     "execution_count": 23,
     "metadata": {},
     "output_type": "execute_result"
    }
   ],
   "source": [
    "df_itinerario.loc[[23,44]]"
   ]
  },
  {
   "cell_type": "code",
   "execution_count": 26,
   "id": "da8df069",
   "metadata": {},
   "outputs": [],
   "source": [
    "df_itinerario.drop_duplicates(subset=[\"CodigoNave\",\"Viaje\",\"CodigoPaisCarga\",\"CodigoPuertoCarga\",\"CodigoPaisDesCarga\",\"CodigoPuertoDesCarga\",\"fechaSalida\",\"fechaLlegada\"], keep=\"first\", inplace=True)\n"
   ]
  },
  {
   "cell_type": "code",
   "execution_count": 27,
   "id": "dcbd55a4",
   "metadata": {},
   "outputs": [
    {
     "data": {
      "text/plain": [
       "Index([ 100,  314,  315,  494,  525,  708,  802,  823,  900, 1367, 1370, 1371,\n",
       "       1388, 1584, 1986, 2322, 2323, 3068, 3069, 3473],\n",
       "      dtype='int64')"
      ]
     },
     "execution_count": 27,
     "metadata": {},
     "output_type": "execute_result"
    }
   ],
   "source": [
    "df_itinerario[df_itinerario.duplicated(subset=[\"CodigoNave\",\"CodigoPuertoCarga\",\"CodigoPaisCarga\",\"CodigoPaisDesCarga\",\"CodigoPuertoDesCarga\",\"fechaSalida\",\"fechaLlegada\"])].index"
   ]
  },
  {
   "cell_type": "code",
   "execution_count": 29,
   "id": "f9f96acf",
   "metadata": {},
   "outputs": [
    {
     "name": "stdout",
     "output_type": "stream",
     "text": [
      "[99, 100]\n"
     ]
    }
   ],
   "source": [
    "columnas = [\"CodigoNave\",\"CodigoPuertoCarga\",\"CodigoPaisCarga\",\"CodigoPaisDesCarga\",\"CodigoPuertoDesCarga\",\"fechaSalida\",\"fechaLlegada\"]\n",
    "objetivo = df_itinerario.loc[100,columnas]\n",
    "\n",
    "# Comparas cada fila (axis=1 significa comparar por columnas)\n",
    "coincidencias = df_itinerario[columnas].eq(objetivo).all(axis=1)\n",
    "\n",
    "# Ves todos los índices que son iguales a tu fila objetivo\n",
    "indices_coincidentes = df_itinerario[coincidencias].index.tolist()\n",
    "print(indices_coincidentes)"
   ]
  },
  {
   "cell_type": "code",
   "execution_count": 30,
   "id": "1919fb56",
   "metadata": {},
   "outputs": [
    {
     "data": {
      "text/html": [
       "<div>\n",
       "<style scoped>\n",
       "    .dataframe tbody tr th:only-of-type {\n",
       "        vertical-align: middle;\n",
       "    }\n",
       "\n",
       "    .dataframe tbody tr th {\n",
       "        vertical-align: top;\n",
       "    }\n",
       "\n",
       "    .dataframe thead th {\n",
       "        text-align: right;\n",
       "    }\n",
       "</style>\n",
       "<table border=\"1\" class=\"dataframe\">\n",
       "  <thead>\n",
       "    <tr style=\"text-align: right;\">\n",
       "      <th></th>\n",
       "      <th>CodigoNave</th>\n",
       "      <th>Viaje</th>\n",
       "      <th>Rumbo</th>\n",
       "      <th>CodigoPaisCarga</th>\n",
       "      <th>CodigoPuertoCarga</th>\n",
       "      <th>CodigoPaisDesCarga</th>\n",
       "      <th>CodigoPuertoDesCarga</th>\n",
       "      <th>fechaSalida</th>\n",
       "      <th>fechaLlegada</th>\n",
       "    </tr>\n",
       "  </thead>\n",
       "  <tbody>\n",
       "    <tr>\n",
       "      <th>99</th>\n",
       "      <td>APLIND</td>\n",
       "      <td>44</td>\n",
       "      <td>N</td>\n",
       "      <td>CL</td>\n",
       "      <td>VAP</td>\n",
       "      <td>PE</td>\n",
       "      <td>CLL</td>\n",
       "      <td>2023-11-11</td>\n",
       "      <td>2023-11-15</td>\n",
       "    </tr>\n",
       "    <tr>\n",
       "      <th>100</th>\n",
       "      <td>APLIND</td>\n",
       "      <td>46</td>\n",
       "      <td>N</td>\n",
       "      <td>CL</td>\n",
       "      <td>VAP</td>\n",
       "      <td>PE</td>\n",
       "      <td>CLL</td>\n",
       "      <td>2023-11-11</td>\n",
       "      <td>2023-11-15</td>\n",
       "    </tr>\n",
       "  </tbody>\n",
       "</table>\n",
       "</div>"
      ],
      "text/plain": [
       "    CodigoNave  Viaje Rumbo CodigoPaisCarga CodigoPuertoCarga  \\\n",
       "99      APLIND     44     N              CL               VAP   \n",
       "100     APLIND     46     N              CL               VAP   \n",
       "\n",
       "    CodigoPaisDesCarga CodigoPuertoDesCarga fechaSalida fechaLlegada  \n",
       "99                  PE                  CLL  2023-11-11   2023-11-15  \n",
       "100                 PE                  CLL  2023-11-11   2023-11-15  "
      ]
     },
     "execution_count": 30,
     "metadata": {},
     "output_type": "execute_result"
    }
   ],
   "source": [
    "df_itinerario.loc[[99,100]]"
   ]
  },
  {
   "cell_type": "code",
   "execution_count": 31,
   "id": "9495b0a3",
   "metadata": {},
   "outputs": [
    {
     "name": "stdout",
     "output_type": "stream",
     "text": [
      "<class 'pandas.core.frame.DataFrame'>\n",
      "Index: 3410 entries, 0 to 3474\n",
      "Data columns (total 9 columns):\n",
      " #   Column                Non-Null Count  Dtype         \n",
      "---  ------                --------------  -----         \n",
      " 0   CodigoNave            3410 non-null   object        \n",
      " 1   Viaje                 3410 non-null   int64         \n",
      " 2   Rumbo                 3410 non-null   object        \n",
      " 3   CodigoPaisCarga       3410 non-null   object        \n",
      " 4   CodigoPuertoCarga     3410 non-null   object        \n",
      " 5   CodigoPaisDesCarga    3410 non-null   object        \n",
      " 6   CodigoPuertoDesCarga  3410 non-null   object        \n",
      " 7   fechaSalida           3410 non-null   datetime64[ns]\n",
      " 8   fechaLlegada          3410 non-null   datetime64[ns]\n",
      "dtypes: datetime64[ns](2), int64(1), object(6)\n",
      "memory usage: 395.4+ KB\n"
     ]
    }
   ],
   "source": [
    "df_itinerario.info()"
   ]
  },
  {
   "cell_type": "code",
   "execution_count": 32,
   "id": "6415f921",
   "metadata": {},
   "outputs": [],
   "source": [
    "df_itinerario.drop_duplicates(subset=[\"CodigoNave\",\"CodigoPaisCarga\",\"CodigoPuertoCarga\",\"CodigoPaisDesCarga\",\"CodigoPuertoDesCarga\",\"fechaSalida\",\"fechaLlegada\"], keep=\"first\", inplace=True)"
   ]
  },
  {
   "cell_type": "code",
   "execution_count": 33,
   "id": "4ea14e2f",
   "metadata": {},
   "outputs": [
    {
     "name": "stdout",
     "output_type": "stream",
     "text": [
      "Empty DataFrame\n",
      "Columns: [CodigoNave, Viaje, Rumbo, CodigoPaisCarga, CodigoPuertoCarga, CodigoPaisDesCarga, CodigoPuertoDesCarga, fechaSalida, fechaLlegada]\n",
      "Index: []\n"
     ]
    }
   ],
   "source": [
    "duplicados = df_itinerario[df_itinerario.duplicated(keep=False)]\n",
    "print(duplicados)"
   ]
  },
  {
   "cell_type": "code",
   "execution_count": 34,
   "id": "8c104be0",
   "metadata": {},
   "outputs": [
    {
     "name": "stdout",
     "output_type": "stream",
     "text": [
      "<class 'pandas.core.frame.DataFrame'>\n",
      "Index: 3390 entries, 0 to 3474\n",
      "Data columns (total 9 columns):\n",
      " #   Column                Non-Null Count  Dtype         \n",
      "---  ------                --------------  -----         \n",
      " 0   CodigoNave            3390 non-null   object        \n",
      " 1   Viaje                 3390 non-null   int64         \n",
      " 2   Rumbo                 3390 non-null   object        \n",
      " 3   CodigoPaisCarga       3390 non-null   object        \n",
      " 4   CodigoPuertoCarga     3390 non-null   object        \n",
      " 5   CodigoPaisDesCarga    3390 non-null   object        \n",
      " 6   CodigoPuertoDesCarga  3390 non-null   object        \n",
      " 7   fechaSalida           3390 non-null   datetime64[ns]\n",
      " 8   fechaLlegada          3390 non-null   datetime64[ns]\n",
      "dtypes: datetime64[ns](2), int64(1), object(6)\n",
      "memory usage: 264.8+ KB\n"
     ]
    }
   ],
   "source": [
    "df_itinerario.info()"
   ]
  },
  {
   "cell_type": "code",
   "execution_count": 35,
   "id": "3fd4306a",
   "metadata": {},
   "outputs": [
    {
     "data": {
      "text/plain": [
       "Index([  10,   33,   34,   45,  228,  229,  238,  260,  380,  396,  711, 1101,\n",
       "       1377, 1382, 1497, 1611, 1693, 1699, 1736, 1811, 2007, 2013, 2025, 2238,\n",
       "       2271, 2276, 2339, 2426, 2557, 2719, 2740, 2833, 2986, 3187, 3256, 3300,\n",
       "       3381, 3402],\n",
       "      dtype='int64')"
      ]
     },
     "execution_count": 35,
     "metadata": {},
     "output_type": "execute_result"
    }
   ],
   "source": [
    "df_itinerario[df_itinerario.duplicated(subset=[\"CodigoNave\",\"fechaSalida\",\"fechaLlegada\"], )].index"
   ]
  },
  {
   "cell_type": "code",
   "execution_count": 36,
   "id": "ea149baa",
   "metadata": {},
   "outputs": [
    {
     "name": "stdout",
     "output_type": "stream",
     "text": [
      "[8, 10]\n"
     ]
    }
   ],
   "source": [
    "columnas = [\"CodigoNave\",\"fechaSalida\",\"fechaLlegada\"]\n",
    "fila_objetivo = df_itinerario.loc[10,columnas]\n",
    "\n",
    "# Comparas cada fila (axis=1 significa comparar por columnas)\n",
    "coincidencias = df_itinerario[columnas].eq(fila_objetivo).all(axis=1)\n",
    "\n",
    "# Ves todos los índices que son iguales a tu fila objetivo\n",
    "indices_coincidentes = df_itinerario[coincidencias].index.tolist()\n",
    "print(indices_coincidentes)"
   ]
  },
  {
   "cell_type": "code",
   "execution_count": 37,
   "id": "36f9ae53",
   "metadata": {},
   "outputs": [
    {
     "data": {
      "text/html": [
       "<div>\n",
       "<style scoped>\n",
       "    .dataframe tbody tr th:only-of-type {\n",
       "        vertical-align: middle;\n",
       "    }\n",
       "\n",
       "    .dataframe tbody tr th {\n",
       "        vertical-align: top;\n",
       "    }\n",
       "\n",
       "    .dataframe thead th {\n",
       "        text-align: right;\n",
       "    }\n",
       "</style>\n",
       "<table border=\"1\" class=\"dataframe\">\n",
       "  <thead>\n",
       "    <tr style=\"text-align: right;\">\n",
       "      <th></th>\n",
       "      <th>CodigoNave</th>\n",
       "      <th>Viaje</th>\n",
       "      <th>Rumbo</th>\n",
       "      <th>CodigoPaisCarga</th>\n",
       "      <th>CodigoPuertoCarga</th>\n",
       "      <th>CodigoPaisDesCarga</th>\n",
       "      <th>CodigoPuertoDesCarga</th>\n",
       "      <th>fechaSalida</th>\n",
       "      <th>fechaLlegada</th>\n",
       "    </tr>\n",
       "  </thead>\n",
       "  <tbody>\n",
       "    <tr>\n",
       "      <th>8</th>\n",
       "      <td>1</td>\n",
       "      <td>1025</td>\n",
       "      <td>E</td>\n",
       "      <td>CN</td>\n",
       "      <td>SZX</td>\n",
       "      <td>HK</td>\n",
       "      <td>HKG</td>\n",
       "      <td>2023-09-19</td>\n",
       "      <td>2023-09-19</td>\n",
       "    </tr>\n",
       "    <tr>\n",
       "      <th>10</th>\n",
       "      <td>1</td>\n",
       "      <td>1025</td>\n",
       "      <td>E</td>\n",
       "      <td>KR</td>\n",
       "      <td>PUS</td>\n",
       "      <td>CN</td>\n",
       "      <td>SZX</td>\n",
       "      <td>2023-09-19</td>\n",
       "      <td>2023-09-19</td>\n",
       "    </tr>\n",
       "  </tbody>\n",
       "</table>\n",
       "</div>"
      ],
      "text/plain": [
       "   CodigoNave  Viaje Rumbo CodigoPaisCarga CodigoPuertoCarga  \\\n",
       "8           1   1025     E              CN               SZX   \n",
       "10          1   1025     E              KR               PUS   \n",
       "\n",
       "   CodigoPaisDesCarga CodigoPuertoDesCarga fechaSalida fechaLlegada  \n",
       "8                  HK                  HKG  2023-09-19   2023-09-19  \n",
       "10                 CN                  SZX  2023-09-19   2023-09-19  "
      ]
     },
     "execution_count": 37,
     "metadata": {},
     "output_type": "execute_result"
    }
   ],
   "source": [
    "df_itinerario.loc[[8,10]]"
   ]
  },
  {
   "cell_type": "code",
   "execution_count": 38,
   "id": "f389fc92",
   "metadata": {},
   "outputs": [
    {
     "name": "stdout",
     "output_type": "stream",
     "text": [
      "Empty DataFrame\n",
      "Columns: [CodigoNave, Viaje, Rumbo, CodigoPaisCarga, CodigoPuertoCarga, CodigoPaisDesCarga, CodigoPuertoDesCarga, fechaSalida, fechaLlegada]\n",
      "Index: []\n"
     ]
    }
   ],
   "source": [
    "duplicados = df_itinerario[df_itinerario.duplicated(keep=False)]\n",
    "print(duplicados)"
   ]
  },
  {
   "cell_type": "code",
   "execution_count": 39,
   "id": "1745e096",
   "metadata": {},
   "outputs": [
    {
     "data": {
      "text/html": [
       "<div>\n",
       "<style scoped>\n",
       "    .dataframe tbody tr th:only-of-type {\n",
       "        vertical-align: middle;\n",
       "    }\n",
       "\n",
       "    .dataframe tbody tr th {\n",
       "        vertical-align: top;\n",
       "    }\n",
       "\n",
       "    .dataframe thead th {\n",
       "        text-align: right;\n",
       "    }\n",
       "</style>\n",
       "<table border=\"1\" class=\"dataframe\">\n",
       "  <thead>\n",
       "    <tr style=\"text-align: right;\">\n",
       "      <th></th>\n",
       "      <th>CodigoNave</th>\n",
       "      <th>Viaje</th>\n",
       "      <th>Rumbo</th>\n",
       "      <th>CodigoPaisCarga</th>\n",
       "      <th>CodigoPuertoCarga</th>\n",
       "      <th>CodigoPaisDesCarga</th>\n",
       "      <th>CodigoPuertoDesCarga</th>\n",
       "      <th>fechaSalida</th>\n",
       "      <th>fechaLlegada</th>\n",
       "    </tr>\n",
       "  </thead>\n",
       "  <tbody>\n",
       "  </tbody>\n",
       "</table>\n",
       "</div>"
      ],
      "text/plain": [
       "Empty DataFrame\n",
       "Columns: [CodigoNave, Viaje, Rumbo, CodigoPaisCarga, CodigoPuertoCarga, CodigoPaisDesCarga, CodigoPuertoDesCarga, fechaSalida, fechaLlegada]\n",
       "Index: []"
      ]
     },
     "execution_count": 39,
     "metadata": {},
     "output_type": "execute_result"
    }
   ],
   "source": [
    "df_itinerario[df_itinerario.isnull().any(axis=1)]"
   ]
  },
  {
   "cell_type": "code",
   "execution_count": 40,
   "id": "62cf6b37",
   "metadata": {},
   "outputs": [],
   "source": [
    "df_puerto_silver = pd.read_csv(\"Puerto_silver.csv\",sep=',')"
   ]
  },
  {
   "cell_type": "code",
   "execution_count": 41,
   "id": "b2acda12",
   "metadata": {},
   "outputs": [],
   "source": [
    "#MAPEO\n",
    "# En df_puertos (clave para mapear)\n",
    "df_puerto_silver['Clave'] = df_puerto_silver['CodAntiguo'] + '|' + df_puerto_silver['CodigoPais']\n",
    "\n",
    "# Diccionario: (CodAntiguo + CodigoPais) → CodigoPuerto\n",
    "mapa_codigos = dict(zip(df_puerto_silver['Clave'], df_puerto_silver['CodigoPuerto']))\n",
    "\n",
    "# En df_movimientos (clave para buscar)\n",
    "df_itinerario['ClaveCarga'] = df_itinerario['CodigoPuertoCarga'] + '|' + df_itinerario['CodigoPaisCarga']\n",
    "df_itinerario['ClaveDesCarga'] = df_itinerario['CodigoPuertoDesCarga'] + '|' + df_itinerario['CodigoPaisDesCarga']"
   ]
  },
  {
   "cell_type": "code",
   "execution_count": 42,
   "id": "55e77611",
   "metadata": {},
   "outputs": [],
   "source": [
    "df_itinerario['CodigoPuertoCargaAntiguo'] = df_itinerario['CodigoPuertoCarga']\n",
    "df_itinerario['CodigoPuertoDesCargaAntiguo'] = df_itinerario['CodigoPuertoDesCarga']"
   ]
  },
  {
   "cell_type": "code",
   "execution_count": 43,
   "id": "a15e352d",
   "metadata": {},
   "outputs": [],
   "source": [
    "df_itinerario['CodigoPuertoCarga'] = df_itinerario['ClaveCarga'].map(mapa_codigos).fillna(df_itinerario['CodigoPuertoCarga'])\n",
    "df_itinerario['CodigoPuertoDesCarga'] = df_itinerario['ClaveDesCarga'].map(mapa_codigos).fillna(df_itinerario['CodigoPuertoDesCarga'])\n"
   ]
  },
  {
   "cell_type": "code",
   "execution_count": 44,
   "id": "b330f222",
   "metadata": {},
   "outputs": [],
   "source": [
    "df_nave = pd.read_csv(\"Nave_Gold.csv\",sep=',')"
   ]
  },
  {
   "cell_type": "code",
   "execution_count": 45,
   "id": "7b77c1c4",
   "metadata": {},
   "outputs": [
    {
     "name": "stdout",
     "output_type": "stream",
     "text": [
      "Códigos de nave que están en itinerario pero NO en df_nave:\n",
      " - 1\n",
      " - NORDIA\n",
      " - 1409\n"
     ]
    }
   ],
   "source": [
    "# Corroborar que ambas columnas tengan el mismo nombre o renómbralas si es necesario\n",
    "codigos_nave_registrados = df_nave['CodigoNave'].unique()\n",
    "codigos_nave_itinerario = df_itinerario['CodigoNave'].unique()\n",
    "\n",
    "# Comparacion para encontrar los que están en itinerario pero no en nave\n",
    "naves_faltantes = set(codigos_nave_itinerario) - set(codigos_nave_registrados)\n",
    "\n",
    "# Mostrar resultado\n",
    "if naves_faltantes:\n",
    "    print(\"Códigos de nave que están en itinerario pero NO en df_nave:\")\n",
    "    for nave in naves_faltantes:\n",
    "        print(f\" - {nave}\")\n",
    "else:\n",
    "    print(\"Todos los códigos de nave del itinerario están en df_nave.\")"
   ]
  },
  {
   "cell_type": "code",
   "execution_count": 46,
   "id": "e9813461",
   "metadata": {},
   "outputs": [],
   "source": [
    "df_itinerario = df_itinerario[df_itinerario['CodigoNave'] != 'NORDIA']"
   ]
  },
  {
   "cell_type": "code",
   "execution_count": 47,
   "id": "7e3fc3f6",
   "metadata": {},
   "outputs": [
    {
     "name": "stdout",
     "output_type": "stream",
     "text": [
      "<class 'pandas.core.frame.DataFrame'>\n",
      "Index: 3354 entries, 0 to 3474\n",
      "Data columns (total 13 columns):\n",
      " #   Column                       Non-Null Count  Dtype         \n",
      "---  ------                       --------------  -----         \n",
      " 0   CodigoNave                   3354 non-null   object        \n",
      " 1   Viaje                        3354 non-null   int64         \n",
      " 2   Rumbo                        3354 non-null   object        \n",
      " 3   CodigoPaisCarga              3354 non-null   object        \n",
      " 4   CodigoPuertoCarga            3354 non-null   object        \n",
      " 5   CodigoPaisDesCarga           3354 non-null   object        \n",
      " 6   CodigoPuertoDesCarga         3354 non-null   object        \n",
      " 7   fechaSalida                  3354 non-null   datetime64[ns]\n",
      " 8   fechaLlegada                 3354 non-null   datetime64[ns]\n",
      " 9   ClaveCarga                   3354 non-null   object        \n",
      " 10  ClaveDesCarga                3354 non-null   object        \n",
      " 11  CodigoPuertoCargaAntiguo     3354 non-null   object        \n",
      " 12  CodigoPuertoDesCargaAntiguo  3354 non-null   object        \n",
      "dtypes: datetime64[ns](2), int64(1), object(10)\n",
      "memory usage: 366.8+ KB\n"
     ]
    }
   ],
   "source": [
    "df_itinerario.info()"
   ]
  },
  {
   "cell_type": "code",
   "execution_count": 48,
   "id": "f63f9bd5",
   "metadata": {},
   "outputs": [],
   "source": [
    "df_itinerario.to_csv(\"Itinerario_silver.csv\", index=False)"
   ]
  },
  {
   "cell_type": "code",
   "execution_count": 49,
   "id": "082263f8",
   "metadata": {},
   "outputs": [
    {
     "data": {
      "text/html": [
       "<div>\n",
       "<style scoped>\n",
       "    .dataframe tbody tr th:only-of-type {\n",
       "        vertical-align: middle;\n",
       "    }\n",
       "\n",
       "    .dataframe tbody tr th {\n",
       "        vertical-align: top;\n",
       "    }\n",
       "\n",
       "    .dataframe thead th {\n",
       "        text-align: right;\n",
       "    }\n",
       "</style>\n",
       "<table border=\"1\" class=\"dataframe\">\n",
       "  <thead>\n",
       "    <tr style=\"text-align: right;\">\n",
       "      <th></th>\n",
       "      <th>CodigoNave</th>\n",
       "      <th>Viaje</th>\n",
       "      <th>Rumbo</th>\n",
       "      <th>CodigoPaisCarga</th>\n",
       "      <th>CodigoPuertoCarga</th>\n",
       "      <th>CodigoPaisDesCarga</th>\n",
       "      <th>CodigoPuertoDesCarga</th>\n",
       "      <th>fechaSalida</th>\n",
       "      <th>fechaLlegada</th>\n",
       "      <th>ClaveCarga</th>\n",
       "      <th>ClaveDesCarga</th>\n",
       "      <th>CodigoPuertoCargaAntiguo</th>\n",
       "      <th>CodigoPuertoDesCargaAntiguo</th>\n",
       "    </tr>\n",
       "  </thead>\n",
       "  <tbody>\n",
       "    <tr>\n",
       "      <th>0</th>\n",
       "      <td>1</td>\n",
       "      <td>607</td>\n",
       "      <td>E</td>\n",
       "      <td>TW</td>\n",
       "      <td>KLUG</td>\n",
       "      <td>PE</td>\n",
       "      <td>CLLO</td>\n",
       "      <td>2022-06-25</td>\n",
       "      <td>2022-07-31</td>\n",
       "      <td>KEL|TW</td>\n",
       "      <td>CLL|PE</td>\n",
       "      <td>KEL</td>\n",
       "      <td>CLL</td>\n",
       "    </tr>\n",
       "    <tr>\n",
       "      <th>1</th>\n",
       "      <td>1</td>\n",
       "      <td>707</td>\n",
       "      <td>E</td>\n",
       "      <td>HK</td>\n",
       "      <td>HGKG</td>\n",
       "      <td>PE</td>\n",
       "      <td>CLLO</td>\n",
       "      <td>2022-09-12</td>\n",
       "      <td>2022-10-15</td>\n",
       "      <td>HKG|HK</td>\n",
       "      <td>CLL|PE</td>\n",
       "      <td>HKG</td>\n",
       "      <td>CLL</td>\n",
       "    </tr>\n",
       "    <tr>\n",
       "      <th>2</th>\n",
       "      <td>1</td>\n",
       "      <td>1005</td>\n",
       "      <td>E</td>\n",
       "      <td>CN</td>\n",
       "      <td>SNGI</td>\n",
       "      <td>KR</td>\n",
       "      <td>BSAN</td>\n",
       "      <td>2023-04-23</td>\n",
       "      <td>2023-04-25</td>\n",
       "      <td>SHA|CN</td>\n",
       "      <td>PUS|KR</td>\n",
       "      <td>SHA</td>\n",
       "      <td>PUS</td>\n",
       "    </tr>\n",
       "    <tr>\n",
       "      <th>3</th>\n",
       "      <td>1</td>\n",
       "      <td>1005</td>\n",
       "      <td>E</td>\n",
       "      <td>HK</td>\n",
       "      <td>HGKG</td>\n",
       "      <td>CN</td>\n",
       "      <td>SNGI</td>\n",
       "      <td>2023-04-18</td>\n",
       "      <td>2023-04-22</td>\n",
       "      <td>HKG|HK</td>\n",
       "      <td>SHA|CN</td>\n",
       "      <td>HKG</td>\n",
       "      <td>SHA</td>\n",
       "    </tr>\n",
       "    <tr>\n",
       "      <th>4</th>\n",
       "      <td>1</td>\n",
       "      <td>1005</td>\n",
       "      <td>E</td>\n",
       "      <td>KR</td>\n",
       "      <td>BSAN</td>\n",
       "      <td>TW</td>\n",
       "      <td>KLUG</td>\n",
       "      <td>2023-04-25</td>\n",
       "      <td>2023-04-26</td>\n",
       "      <td>PUS|KR</td>\n",
       "      <td>KEL|TW</td>\n",
       "      <td>PUS</td>\n",
       "      <td>KEL</td>\n",
       "    </tr>\n",
       "    <tr>\n",
       "      <th>...</th>\n",
       "      <td>...</td>\n",
       "      <td>...</td>\n",
       "      <td>...</td>\n",
       "      <td>...</td>\n",
       "      <td>...</td>\n",
       "      <td>...</td>\n",
       "      <td>...</td>\n",
       "      <td>...</td>\n",
       "      <td>...</td>\n",
       "      <td>...</td>\n",
       "      <td>...</td>\n",
       "      <td>...</td>\n",
       "      <td>...</td>\n",
       "    </tr>\n",
       "    <tr>\n",
       "      <th>3469</th>\n",
       "      <td>XXMN</td>\n",
       "      <td>92</td>\n",
       "      <td>W</td>\n",
       "      <td>CN</td>\n",
       "      <td>QGDO</td>\n",
       "      <td>PE</td>\n",
       "      <td>CLLO</td>\n",
       "      <td>2022-11-30</td>\n",
       "      <td>2022-12-06</td>\n",
       "      <td>TAO|CN</td>\n",
       "      <td>CLL|PE</td>\n",
       "      <td>TAO</td>\n",
       "      <td>CLL</td>\n",
       "    </tr>\n",
       "    <tr>\n",
       "      <th>3470</th>\n",
       "      <td>XXMN</td>\n",
       "      <td>92</td>\n",
       "      <td>W</td>\n",
       "      <td>PE</td>\n",
       "      <td>CLLO</td>\n",
       "      <td>CL</td>\n",
       "      <td>VARO</td>\n",
       "      <td>2022-12-07</td>\n",
       "      <td>2022-12-14</td>\n",
       "      <td>CLL|PE</td>\n",
       "      <td>VAP|CL</td>\n",
       "      <td>CLL</td>\n",
       "      <td>VAP</td>\n",
       "    </tr>\n",
       "    <tr>\n",
       "      <th>3471</th>\n",
       "      <td>XXMN</td>\n",
       "      <td>93</td>\n",
       "      <td>W</td>\n",
       "      <td>CL</td>\n",
       "      <td>VARO</td>\n",
       "      <td>PE</td>\n",
       "      <td>CLLO</td>\n",
       "      <td>2023-02-09</td>\n",
       "      <td>2023-02-14</td>\n",
       "      <td>VAP|CL</td>\n",
       "      <td>CLL|PE</td>\n",
       "      <td>VAP</td>\n",
       "      <td>CLL</td>\n",
       "    </tr>\n",
       "    <tr>\n",
       "      <th>3472</th>\n",
       "      <td>XXMN</td>\n",
       "      <td>93</td>\n",
       "      <td>W</td>\n",
       "      <td>PE</td>\n",
       "      <td>CLLO</td>\n",
       "      <td>KR</td>\n",
       "      <td>BSAN</td>\n",
       "      <td>2023-02-15</td>\n",
       "      <td>2023-04-01</td>\n",
       "      <td>CLL|PE</td>\n",
       "      <td>PUS|KR</td>\n",
       "      <td>CLL</td>\n",
       "      <td>PUS</td>\n",
       "    </tr>\n",
       "    <tr>\n",
       "      <th>3474</th>\n",
       "      <td>XXMN</td>\n",
       "      <td>96</td>\n",
       "      <td>W</td>\n",
       "      <td>PE</td>\n",
       "      <td>CLLO</td>\n",
       "      <td>CL</td>\n",
       "      <td>VARO</td>\n",
       "      <td>2022-07-19</td>\n",
       "      <td>2022-07-27</td>\n",
       "      <td>CLL|PE</td>\n",
       "      <td>VAP|CL</td>\n",
       "      <td>CLL</td>\n",
       "      <td>VAP</td>\n",
       "    </tr>\n",
       "  </tbody>\n",
       "</table>\n",
       "<p>3354 rows × 13 columns</p>\n",
       "</div>"
      ],
      "text/plain": [
       "     CodigoNave  Viaje Rumbo CodigoPaisCarga CodigoPuertoCarga  \\\n",
       "0             1    607     E              TW              KLUG   \n",
       "1             1    707     E              HK              HGKG   \n",
       "2             1   1005     E              CN              SNGI   \n",
       "3             1   1005     E              HK              HGKG   \n",
       "4             1   1005     E              KR              BSAN   \n",
       "...         ...    ...   ...             ...               ...   \n",
       "3469       XXMN     92     W              CN              QGDO   \n",
       "3470       XXMN     92     W              PE              CLLO   \n",
       "3471       XXMN     93     W              CL              VARO   \n",
       "3472       XXMN     93     W              PE              CLLO   \n",
       "3474       XXMN     96     W              PE              CLLO   \n",
       "\n",
       "     CodigoPaisDesCarga CodigoPuertoDesCarga fechaSalida fechaLlegada  \\\n",
       "0                    PE                 CLLO  2022-06-25   2022-07-31   \n",
       "1                    PE                 CLLO  2022-09-12   2022-10-15   \n",
       "2                    KR                 BSAN  2023-04-23   2023-04-25   \n",
       "3                    CN                 SNGI  2023-04-18   2023-04-22   \n",
       "4                    TW                 KLUG  2023-04-25   2023-04-26   \n",
       "...                 ...                  ...         ...          ...   \n",
       "3469                 PE                 CLLO  2022-11-30   2022-12-06   \n",
       "3470                 CL                 VARO  2022-12-07   2022-12-14   \n",
       "3471                 PE                 CLLO  2023-02-09   2023-02-14   \n",
       "3472                 KR                 BSAN  2023-02-15   2023-04-01   \n",
       "3474                 CL                 VARO  2022-07-19   2022-07-27   \n",
       "\n",
       "     ClaveCarga ClaveDesCarga CodigoPuertoCargaAntiguo  \\\n",
       "0        KEL|TW        CLL|PE                      KEL   \n",
       "1        HKG|HK        CLL|PE                      HKG   \n",
       "2        SHA|CN        PUS|KR                      SHA   \n",
       "3        HKG|HK        SHA|CN                      HKG   \n",
       "4        PUS|KR        KEL|TW                      PUS   \n",
       "...         ...           ...                      ...   \n",
       "3469     TAO|CN        CLL|PE                      TAO   \n",
       "3470     CLL|PE        VAP|CL                      CLL   \n",
       "3471     VAP|CL        CLL|PE                      VAP   \n",
       "3472     CLL|PE        PUS|KR                      CLL   \n",
       "3474     CLL|PE        VAP|CL                      CLL   \n",
       "\n",
       "     CodigoPuertoDesCargaAntiguo  \n",
       "0                            CLL  \n",
       "1                            CLL  \n",
       "2                            PUS  \n",
       "3                            SHA  \n",
       "4                            KEL  \n",
       "...                          ...  \n",
       "3469                         CLL  \n",
       "3470                         VAP  \n",
       "3471                         CLL  \n",
       "3472                         PUS  \n",
       "3474                         VAP  \n",
       "\n",
       "[3354 rows x 13 columns]"
      ]
     },
     "execution_count": 49,
     "metadata": {},
     "output_type": "execute_result"
    }
   ],
   "source": [
    "df_itinerario"
   ]
  },
  {
   "cell_type": "code",
   "execution_count": 50,
   "id": "c92dc581",
   "metadata": {},
   "outputs": [],
   "source": [
    "df_itinerario.drop(columns=['Rumbo','ClaveCarga','ClaveDesCarga','CodigoPuertoCargaAntiguo','CodigoPuertoDesCargaAntiguo'],inplace=True)"
   ]
  },
  {
   "cell_type": "code",
   "execution_count": 53,
   "id": "d4ee9961",
   "metadata": {},
   "outputs": [
    {
     "name": "stdout",
     "output_type": "stream",
     "text": [
      "<class 'pandas.core.frame.DataFrame'>\n",
      "Index: 3354 entries, 0 to 3474\n",
      "Data columns (total 8 columns):\n",
      " #   Column                Non-Null Count  Dtype         \n",
      "---  ------                --------------  -----         \n",
      " 0   CodigoNave            3354 non-null   object        \n",
      " 1   Viaje                 3354 non-null   int64         \n",
      " 2   CodigoPaisCarga       3354 non-null   object        \n",
      " 3   CodigoPuertoCarga     3354 non-null   object        \n",
      " 4   CodigoPaisDesCarga    3354 non-null   object        \n",
      " 5   CodigoPuertoDesCarga  3354 non-null   object        \n",
      " 6   fechaSalida           3354 non-null   datetime64[ns]\n",
      " 7   fechaLlegada          3354 non-null   datetime64[ns]\n",
      "dtypes: datetime64[ns](2), int64(1), object(5)\n",
      "memory usage: 235.8+ KB\n"
     ]
    }
   ],
   "source": [
    "df_itinerario.info()"
   ]
  },
  {
   "cell_type": "code",
   "execution_count": 52,
   "id": "6520385a",
   "metadata": {},
   "outputs": [],
   "source": [
    "df_itinerario.to_csv(\"Itinerario_Gold.csv\", index=False)\n"
   ]
  }
 ],
 "metadata": {
  "kernelspec": {
   "display_name": ".venv",
   "language": "python",
   "name": "python3"
  },
  "language_info": {
   "codemirror_mode": {
    "name": "ipython",
    "version": 3
   },
   "file_extension": ".py",
   "mimetype": "text/x-python",
   "name": "python",
   "nbconvert_exporter": "python",
   "pygments_lexer": "ipython3",
   "version": "3.12.5"
  }
 },
 "nbformat": 4,
 "nbformat_minor": 5
}
