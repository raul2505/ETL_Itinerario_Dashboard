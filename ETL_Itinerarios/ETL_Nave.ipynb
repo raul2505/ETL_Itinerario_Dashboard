{
 "cells": [
  {
   "cell_type": "code",
   "execution_count": null,
   "id": "9a0e97fe",
   "metadata": {},
   "outputs": [],
   "source": [
    "#Importamos pandas y leemos la hoja nave de nuestro archivo excel\n",
    "import pandas as pd\n",
    "df_nave = pd.read_excel(\"Bd_Itinerarios.xlsx\",sheet_name='nave')"
   ]
  },
  {
   "cell_type": "code",
   "execution_count": 4,
   "id": "42525226",
   "metadata": {},
   "outputs": [
    {
     "name": "stdout",
     "output_type": "stream",
     "text": [
      "<class 'pandas.core.frame.DataFrame'>\n",
      "RangeIndex: 947 entries, 0 to 946\n",
      "Data columns (total 3 columns):\n",
      " #   Column      Non-Null Count  Dtype \n",
      "---  ------      --------------  ----- \n",
      " 0   CodigoNave  947 non-null    object\n",
      " 1   NombreNave  947 non-null    object\n",
      " 2   Bandera     3 non-null      object\n",
      "dtypes: object(3)\n",
      "memory usage: 22.3+ KB\n"
     ]
    }
   ],
   "source": [
    "#Revisamos la información del dataframe\n",
    "df_nave.info()"
   ]
  },
  {
   "cell_type": "code",
   "execution_count": null,
   "id": "fec81f39",
   "metadata": {},
   "outputs": [
    {
     "data": {
      "text/html": [
       "<div>\n",
       "<style scoped>\n",
       "    .dataframe tbody tr th:only-of-type {\n",
       "        vertical-align: middle;\n",
       "    }\n",
       "\n",
       "    .dataframe tbody tr th {\n",
       "        vertical-align: top;\n",
       "    }\n",
       "\n",
       "    .dataframe thead th {\n",
       "        text-align: right;\n",
       "    }\n",
       "</style>\n",
       "<table border=\"1\" class=\"dataframe\">\n",
       "  <thead>\n",
       "    <tr style=\"text-align: right;\">\n",
       "      <th></th>\n",
       "      <th>CodigoNave</th>\n",
       "      <th>NombreNave</th>\n",
       "      <th>Bandera</th>\n",
       "    </tr>\n",
       "  </thead>\n",
       "  <tbody>\n",
       "    <tr>\n",
       "      <th>count</th>\n",
       "      <td>947</td>\n",
       "      <td>947</td>\n",
       "      <td>3</td>\n",
       "    </tr>\n",
       "    <tr>\n",
       "      <th>unique</th>\n",
       "      <td>947</td>\n",
       "      <td>947</td>\n",
       "      <td>2</td>\n",
       "    </tr>\n",
       "    <tr>\n",
       "      <th>top</th>\n",
       "      <td>1</td>\n",
       "      <td>MOL PACE</td>\n",
       "      <td>PORTUGAL</td>\n",
       "    </tr>\n",
       "    <tr>\n",
       "      <th>freq</th>\n",
       "      <td>1</td>\n",
       "      <td>1</td>\n",
       "      <td>2</td>\n",
       "    </tr>\n",
       "  </tbody>\n",
       "</table>\n",
       "</div>"
      ],
      "text/plain": [
       "        CodigoNave NombreNave   Bandera\n",
       "count          947        947         3\n",
       "unique         947        947         2\n",
       "top              1   MOL PACE  PORTUGAL\n",
       "freq             1          1         2"
      ]
     },
     "execution_count": 6,
     "metadata": {},
     "output_type": "execute_result"
    }
   ],
   "source": [
    "#Revisamos la descripción del dataframe\n",
    "df_nave.describe()"
   ]
  },
  {
   "cell_type": "code",
   "execution_count": null,
   "id": "35341964",
   "metadata": {},
   "outputs": [
    {
     "data": {
      "text/plain": [
       "CodigoNave      0\n",
       "NombreNave      0\n",
       "Bandera       944\n",
       "dtype: int64"
      ]
     },
     "execution_count": 8,
     "metadata": {},
     "output_type": "execute_result"
    }
   ],
   "source": [
    "#Revisamos los nulos que hay por fila\n",
    "df_nave.isnull().sum()"
   ]
  },
  {
   "cell_type": "code",
   "execution_count": null,
   "id": "b6e5de43",
   "metadata": {},
   "outputs": [
    {
     "data": {
      "text/plain": [
       "np.int64(0)"
      ]
     },
     "execution_count": 9,
     "metadata": {},
     "output_type": "execute_result"
    }
   ],
   "source": [
    "#Revisamos si es que hay algunas filas duplicadas\n",
    "df_nave.duplicated().sum()"
   ]
  },
  {
   "cell_type": "code",
   "execution_count": 10,
   "id": "8d5f6601",
   "metadata": {},
   "outputs": [],
   "source": [
    "#Dado que bandera cuenta con demasiados valores nulos lo eliminamos \n",
    "df_nave = df_nave.drop(\"Bandera\",axis=1)"
   ]
  },
  {
   "cell_type": "code",
   "execution_count": null,
   "id": "2263513f",
   "metadata": {},
   "outputs": [
    {
     "name": "stdout",
     "output_type": "stream",
     "text": [
      "<class 'pandas.core.frame.DataFrame'>\n",
      "RangeIndex: 947 entries, 0 to 946\n",
      "Data columns (total 2 columns):\n",
      " #   Column      Non-Null Count  Dtype \n",
      "---  ------      --------------  ----- \n",
      " 0   CodigoNave  947 non-null    object\n",
      " 1   NombreNave  947 non-null    object\n",
      "dtypes: object(2)\n",
      "memory usage: 14.9+ KB\n"
     ]
    }
   ],
   "source": [
    "#Verificamos que se ha eliminado correctamente\n",
    "df_nave.info()"
   ]
  },
  {
   "cell_type": "code",
   "execution_count": 12,
   "id": "3891ce38",
   "metadata": {},
   "outputs": [],
   "source": [
    "#Exportamos nuestro archivo\n",
    "df_nave.to_csv(\"Nave_Gold.csv\",index=False)"
   ]
  }
 ],
 "metadata": {
  "kernelspec": {
   "display_name": ".venv",
   "language": "python",
   "name": "python3"
  },
  "language_info": {
   "codemirror_mode": {
    "name": "ipython",
    "version": 3
   },
   "file_extension": ".py",
   "mimetype": "text/x-python",
   "name": "python",
   "nbconvert_exporter": "python",
   "pygments_lexer": "ipython3",
   "version": "3.12.5"
  }
 },
 "nbformat": 4,
 "nbformat_minor": 5
}
