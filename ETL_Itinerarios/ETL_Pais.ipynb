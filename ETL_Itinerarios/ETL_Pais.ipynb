{
 "cells": [
  {
   "cell_type": "code",
   "execution_count": null,
   "id": "888aeb46",
   "metadata": {},
   "outputs": [],
   "source": [
    "#Importamos pandas para poder leer la hoja pais de nuestro archivo excel y en esta ocasion especificamos los valores\n",
    "#que se deben considerar nulos debido a que puede haber codigos de paises que sean 'NA' y se tomaria como nulo\n",
    "import pandas as pd\n",
    "df_pais = pd.read_excel(\"Bd_Itinerarios.xlsx\",sheet_name='pais',na_values=['null',' '] ,keep_default_na=False)\n"
   ]
  },
  {
   "cell_type": "code",
   "execution_count": null,
   "id": "25e14f98",
   "metadata": {},
   "outputs": [
    {
     "name": "stdout",
     "output_type": "stream",
     "text": [
      "<class 'pandas.core.frame.DataFrame'>\n",
      "RangeIndex: 212 entries, 0 to 211\n",
      "Data columns (total 2 columns):\n",
      " #   Column      Non-Null Count  Dtype \n",
      "---  ------      --------------  ----- \n",
      " 0   CodigoPais  212 non-null    object\n",
      " 1   NombrePais  212 non-null    object\n",
      "dtypes: object(2)\n",
      "memory usage: 3.4+ KB\n"
     ]
    }
   ],
   "source": [
    "#Revisamos la información del Dataframe\n",
    "df_pais.info()"
   ]
  },
  {
   "cell_type": "code",
   "execution_count": null,
   "id": "0cd75561",
   "metadata": {},
   "outputs": [
    {
     "data": {
      "text/html": [
       "<div>\n",
       "<style scoped>\n",
       "    .dataframe tbody tr th:only-of-type {\n",
       "        vertical-align: middle;\n",
       "    }\n",
       "\n",
       "    .dataframe tbody tr th {\n",
       "        vertical-align: top;\n",
       "    }\n",
       "\n",
       "    .dataframe thead th {\n",
       "        text-align: right;\n",
       "    }\n",
       "</style>\n",
       "<table border=\"1\" class=\"dataframe\">\n",
       "  <thead>\n",
       "    <tr style=\"text-align: right;\">\n",
       "      <th></th>\n",
       "      <th>CodigoPais</th>\n",
       "      <th>NombrePais</th>\n",
       "    </tr>\n",
       "  </thead>\n",
       "  <tbody>\n",
       "    <tr>\n",
       "      <th>count</th>\n",
       "      <td>212</td>\n",
       "      <td>212</td>\n",
       "    </tr>\n",
       "    <tr>\n",
       "      <th>unique</th>\n",
       "      <td>212</td>\n",
       "      <td>212</td>\n",
       "    </tr>\n",
       "    <tr>\n",
       "      <th>top</th>\n",
       "      <td>AD</td>\n",
       "      <td>ANDORRA</td>\n",
       "    </tr>\n",
       "    <tr>\n",
       "      <th>freq</th>\n",
       "      <td>1</td>\n",
       "      <td>1</td>\n",
       "    </tr>\n",
       "  </tbody>\n",
       "</table>\n",
       "</div>"
      ],
      "text/plain": [
       "       CodigoPais NombrePais\n",
       "count         212        212\n",
       "unique        212        212\n",
       "top            AD    ANDORRA\n",
       "freq            1          1"
      ]
     },
     "execution_count": 5,
     "metadata": {},
     "output_type": "execute_result"
    }
   ],
   "source": [
    "#Revisamos la descripción del Dataframe\n",
    "df_pais.describe()"
   ]
  },
  {
   "cell_type": "code",
   "execution_count": 6,
   "id": "62698968",
   "metadata": {},
   "outputs": [
    {
     "data": {
      "text/plain": [
       "CodigoPais    0\n",
       "NombrePais    0\n",
       "dtype: int64"
      ]
     },
     "execution_count": 6,
     "metadata": {},
     "output_type": "execute_result"
    }
   ],
   "source": [
    "#Revisamos si es que hay algun valor nulo\n",
    "df_pais.isnull().sum()"
   ]
  },
  {
   "cell_type": "code",
   "execution_count": 8,
   "id": "827bb808",
   "metadata": {},
   "outputs": [
    {
     "data": {
      "text/plain": [
       "np.int64(0)"
      ]
     },
     "execution_count": 8,
     "metadata": {},
     "output_type": "execute_result"
    }
   ],
   "source": [
    "#Revisamos si hay alguna fila duplicada\n",
    "df_pais.duplicated().sum()"
   ]
  },
  {
   "cell_type": "code",
   "execution_count": 9,
   "id": "180545d6",
   "metadata": {},
   "outputs": [
    {
     "name": "stdout",
     "output_type": "stream",
     "text": [
      "{'SAINT PIERRE AND MIQUELON', 'GHANA', 'SAO TOME AND PRINCIPE', 'SOUTH AFRICA', 'ECUADOR', 'INDONESIA', 'FRENCH GUIANA', 'JAMAICA', 'NORTHERN MARIANA ISLANDS', 'GREENLAND', 'JAPAN', 'MONTSERRAT', 'SURINAME', 'TUVALU', 'UGANDA', 'ZAIRE', 'PITCAIRN', 'CYPRUS', 'MONGOLIA', 'TURKMENISTAN', 'PANAMA', 'MALTA', 'THAILAND', 'ANDORRA', 'DJIBOUTI', 'KUWAIT', 'TRINIDAD AND TOBAGO', 'SENEGAL', 'NAMIBIA', 'OMAN', 'SVALBARD AND JAN MAYEN IS', 'GUINEA-BISSAU', 'BELARUS', 'PHILIPPINES', 'FRANCE', 'BURKINA FASO', 'HONG KONG', 'IRELAND', 'AFGHANISTAN', 'SAINT KITTS AND NEVIS', 'SAINT LUCIA', 'LATVIA', 'MALAWI', 'NAURU', 'INDIA', 'GUAM', 'ICELAND', 'SRI LANKA', 'ITALY', 'EL SALVADOR', 'BAHAMAS', 'GABON', 'LITHUANIA', 'CZECH REPUBLIC', 'DOMINICA', 'PALAU', 'MARSHALL ISLANDS', 'HONDURAS', 'BELIZE', 'GRENADA', 'BOTSWANA', 'GIBRALTAR', 'SOLOMON ISLANDS', 'GUADELOUPE', 'NIUE', 'CHILE', 'COMOROS', 'PAKISTAN', 'SUDAN', 'YUGOSLAVIA', 'CONGO', 'ALGERIA', 'UNITED KINGDOM', 'SWEDEN', 'NEW ZEALAND', 'KAZAKHSTAN', 'TANZANIA, UNITED REPUBLIC', 'BELGIUM', 'QATAR', 'CUBA', 'SLOVENIA', 'ZAMBIA', 'VANUATU', 'MALAYSIA', 'ISRAEL', 'MAURITANIA', 'SWAZILAND', 'CARIBE', 'REUNION', 'EQUATORIAL GUINEA', 'AUSTRIA', 'GERMANY', 'CROATIA', 'FINLAND', 'LESOTHO', 'NIGER', 'MACAU', 'FAROE ISLANDS', 'TURKS AND CAICOS ISLANDS', 'LIBERIA', 'BANGLADESH', 'La tundra', 'ERITREA', 'POLAND', 'ZIMBABWE', 'COSTA RICA', 'MADAGASCAR', 'NETHERLANDS', 'PUERTO RICO', 'VENEZUELA', 'SAINT VINCENT AND THE GRE', 'SYRIAN ARAB REPUBLIC', 'PERU', 'FRENCH POLYNESIA', 'RWANDA', 'ROMANIA', 'MAURITIUS', 'GAMBIA', 'ARGENTINA', 'BERMUDA', 'BRAZIL', 'NIGERIA', 'AUSTRALIA', 'CAPE VERDE', 'ESTONIA', 'TONGA', 'PORTUGAL', 'HAITI', 'ARUBA', 'TURKEY', 'UNITED ARAB EMIRATES', 'KIRIBATI', 'SIERRA LEONE', 'SAMOA', 'LEBANON', 'SWITZERLAND', 'BENIN', 'AMERICAN SAMOA', 'SPAIN', 'RUSSIAN FEDERATION', 'BARBADOS', 'BULGARIA', 'VIRGIN ISLANDS (U.S.)', 'DOMINICAN REPUBLIC', 'VIET NAM', 'WESTERN SAHARA', 'CANADA', 'TUNISIA', 'NICARAGUA', 'COOK ISLANDS', 'KOREA, REPUBLIC OF', 'MYANMAR', 'NORWAY', 'GUATEMALA', 'MEXICO', 'HAWAII', 'YEMEN', 'CAMBODIA', 'MAYOTTE', 'SOMALIA', 'NEW CALEDONIA', 'SOUTH GEORGIA AND THE SOU', 'IRAN (ISLAMIC REPUBLIC OF', 'KENYA', 'FIJI', \"COTE D'IVOIRE\", 'CHINA', 'FALKLAND ISLANDS (MALVINA', 'TOGO', 'MOZAMBIQUE', 'UNITED STATES', 'ALBANIA', 'MACEDONIA', 'MALDIVES', 'SEYCHELLES', 'UKRAINE', 'EAST TIMOR', 'VIRGIN ISLANDS (BRITISH)', 'GUINEA', 'HUNGARY', 'MICRONESIA', 'KOREA, DEMOCRATIC PEOPLE´', 'DENMARK', 'ANGOLA', 'GREECE', 'LIBYAN ARAB JAMAHIRIYA', 'MONACO', 'PARAGUAY', 'EGYPT', 'BOLIVIA', 'URUGUAY', 'BAHRAIN', 'SINGAPORE', 'BRUNEI DARUSSALAM', 'GUYANA', 'LUXEMBOURG', 'MALI', 'PAPUA NEW GUINEA', 'CANARY ISLANDS', 'SLOVAKIA', 'COLOMBIA', 'ANGUILLA', 'MARTINIQUE', 'GEORGIA', 'IRAQ', 'NETHERLANDS ANTILLES', 'JORDAN', 'ANTIGUA AND BARBUDA', 'CAYMAN ISLANDS', 'SAINT HELENA', 'CAMEROON', 'TAIWAN, PROVINCE OF CHINA'}\n"
     ]
    }
   ],
   "source": [
    "#Revisamos los valores que tiene la columna nombre pais transformandolo en una lista\n",
    "set_nom_pais = set(df_pais[\"NombrePais\"].to_list())\n",
    "print(set_nom_pais)"
   ]
  },
  {
   "cell_type": "code",
   "execution_count": null,
   "id": "3328e4ef",
   "metadata": {},
   "outputs": [],
   "source": [
    "#Considero que hay algunos nombres que estan escritos de forma incorrecta asi que\n",
    "#usaremos una libreria que nos ayude a verificar eso , en esta ocasión pycountry\n",
    "#pip install pycountry"
   ]
  },
  {
   "cell_type": "code",
   "execution_count": 14,
   "id": "302189c8",
   "metadata": {},
   "outputs": [
    {
     "name": "stdout",
     "output_type": "stream",
     "text": [
      "Collecting pycountry\n",
      "  Using cached pycountry-24.6.1-py3-none-any.whl.metadata (12 kB)\n",
      "Using cached pycountry-24.6.1-py3-none-any.whl (6.3 MB)\n",
      "Installing collected packages: pycountry\n",
      "Successfully installed pycountry-24.6.1\n",
      "Note: you may need to restart the kernel to use updated packages.\n"
     ]
    }
   ],
   "source": [
    "pip install pycountry\n"
   ]
  },
  {
   "cell_type": "code",
   "execution_count": 15,
   "id": "18c4946f",
   "metadata": {},
   "outputs": [],
   "source": [
    "#A traves del codigo del pais obtendremos los nombres correspondiente de los paises\n",
    "import pycountry\n",
    "def get_country(code):\n",
    "    try:\n",
    "        country = pycountry.countries.get(alpha_2=code)\n",
    "        return country.name if country else None\n",
    "    except:\n",
    "        return None\n",
    "\n",
    "#Aplicar funcion\n",
    "df_pais['NombreCorregido'] = df_pais['CodigoPais'].apply(get_country)\n",
    "df_pais['NombrePaisFinal'] = df_pais['NombreCorregido'].combine_first(df_pais['NombrePais'])"
   ]
  },
  {
   "cell_type": "code",
   "execution_count": 17,
   "id": "bdf5f74a",
   "metadata": {},
   "outputs": [
    {
     "name": "stdout",
     "output_type": "stream",
     "text": [
      "    CodigoPais            NombrePais       NombrePaisFinal\n",
      "0           AD               ANDORRA               Andorra\n",
      "1           AE  UNITED ARAB EMIRATES  United Arab Emirates\n",
      "2           AF           AFGHANISTAN           Afghanistan\n",
      "3           AG   ANTIGUA AND BARBUDA   Antigua and Barbuda\n",
      "4           AI              ANGUILLA              Anguilla\n",
      "..         ...                   ...                   ...\n",
      "207         YU            YUGOSLAVIA            YUGOSLAVIA\n",
      "208         ZA          SOUTH AFRICA          South Africa\n",
      "209         ZM                ZAMBIA                Zambia\n",
      "210         ZR                 ZAIRE                 ZAIRE\n",
      "211         ZW              ZIMBABWE              Zimbabwe\n",
      "\n",
      "[212 rows x 3 columns]\n"
     ]
    }
   ],
   "source": [
    "#Imprimimos el dataframe para ver los resultados de la función aplicada\n",
    "print(df_pais[['CodigoPais', 'NombrePais', 'NombrePaisFinal']])"
   ]
  },
  {
   "cell_type": "code",
   "execution_count": null,
   "id": "30893a46",
   "metadata": {},
   "outputs": [
    {
     "name": "stdout",
     "output_type": "stream",
     "text": [
      "<class 'pandas.core.frame.DataFrame'>\n",
      "RangeIndex: 212 entries, 0 to 211\n",
      "Data columns (total 4 columns):\n",
      " #   Column           Non-Null Count  Dtype \n",
      "---  ------           --------------  ----- \n",
      " 0   CodigoPais       212 non-null    object\n",
      " 1   NombrePais       212 non-null    object\n",
      " 2   NombreCorregido  204 non-null    object\n",
      " 3   NombrePaisFinal  212 non-null    object\n",
      "dtypes: object(4)\n",
      "memory usage: 6.8+ KB\n"
     ]
    }
   ],
   "source": [
    "#Podemos visualizar que la mayoria de los nombres de los paises se corrigio\n",
    "df_pais.info()"
   ]
  },
  {
   "cell_type": "code",
   "execution_count": 19,
   "id": "9cb0310b",
   "metadata": {},
   "outputs": [],
   "source": [
    "#Exportamos el dataframe con todas las columnas en caso deseemos poder visualizar los cambios hechos\n",
    "df_pais.to_csv(\"Pais_Silver.csv\",index=False)"
   ]
  },
  {
   "cell_type": "code",
   "execution_count": 20,
   "id": "bf49e4c4",
   "metadata": {},
   "outputs": [],
   "source": [
    "#Eliminamos las columnas no deseadas\n",
    "df_pais = df_pais.drop(['NombrePais','NombreCorregido'],axis=1) "
   ]
  },
  {
   "cell_type": "code",
   "execution_count": 21,
   "id": "4ae6fbcb",
   "metadata": {},
   "outputs": [],
   "source": [
    "#Renombramos la columna de NombrePaisFinal a NombrePais para poder exportar el dataframe\n",
    "df_pais.rename(columns={\"NombrePaisFinal\":\"NombrePais\"}, inplace=True)\n",
    "df_pais.to_csv(\"Pais_Gold.csv\",index=False)"
   ]
  }
 ],
 "metadata": {
  "kernelspec": {
   "display_name": ".venv",
   "language": "python",
   "name": "python3"
  },
  "language_info": {
   "codemirror_mode": {
    "name": "ipython",
    "version": 3
   },
   "file_extension": ".py",
   "mimetype": "text/x-python",
   "name": "python",
   "nbconvert_exporter": "python",
   "pygments_lexer": "ipython3",
   "version": "3.12.5"
  }
 },
 "nbformat": 4,
 "nbformat_minor": 5
}
